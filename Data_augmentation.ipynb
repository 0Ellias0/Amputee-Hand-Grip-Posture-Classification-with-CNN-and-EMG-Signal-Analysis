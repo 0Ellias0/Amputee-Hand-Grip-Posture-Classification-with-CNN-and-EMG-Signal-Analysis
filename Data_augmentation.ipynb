{
 "cells": [
  {
   "cell_type": "markdown",
   "metadata": {},
   "source": [
    "# Library (augmentor) to perform the augmentation data "
   ]
  },
  {
   "cell_type": "code",
   "execution_count": 1,
   "metadata": {
    "id": "gkq0dJnY76HB"
   },
   "outputs": [],
   "source": [
    "import Augmentor"
   ]
  },
  {
   "cell_type": "code",
   "execution_count": 2,
   "metadata": {
    "colab": {
     "base_uri": "https://localhost:8080/"
    },
    "id": "wKg-LRlc8QAP",
    "outputId": "85e51b51-62e9-4d70-b374-5e79e3a7a536"
   },
   "outputs": [
    {
     "name": "stdout",
     "output_type": "stream",
     "text": [
      "Initialised with 760 image(s) found.\n",
      "Output directory set to C:\\Users\\Valery\\Downloads\\PacientesNinaPro\\Imagenes\\Nina_1250\\Aug\\P011\\Clase_1."
     ]
    },
    {
     "name": "stderr",
     "output_type": "stream",
     "text": [
      "Processing <PIL.Image.Image image mode=RGB size=434x343 at 0x1EA5082E7B8>: 100%|██████████| 3800/3800 [00:30<00:00, 123.37 Samples/s]\n"
     ]
    },
    {
     "name": "stdout",
     "output_type": "stream",
     "text": [
      "Initialised with 721 image(s) found.\n",
      "Output directory set to C:\\Users\\Valery\\Downloads\\PacientesNinaPro\\Imagenes\\Nina_1250\\Aug\\P011\\Clase_2."
     ]
    },
    {
     "name": "stderr",
     "output_type": "stream",
     "text": [
      "Processing <PIL.Image.Image image mode=RGB size=434x343 at 0x1EA4E368C88>: 100%|██████████| 3800/3800 [00:33<00:00, 114.16 Samples/s]\n"
     ]
    },
    {
     "name": "stdout",
     "output_type": "stream",
     "text": [
      "Initialised with 760 image(s) found.\n",
      "Output directory set to C:\\Users\\Valery\\Downloads\\PacientesNinaPro\\Imagenes\\Nina_1250\\Aug\\P011\\Clase_3."
     ]
    },
    {
     "name": "stderr",
     "output_type": "stream",
     "text": [
      "Processing <PIL.Image.Image image mode=RGB size=434x343 at 0x1EA50659CF8>: 100%|██████████| 3800/3800 [00:33<00:00, 114.72 Samples/s]\n"
     ]
    },
    {
     "name": "stdout",
     "output_type": "stream",
     "text": [
      "Initialised with 760 image(s) found.\n",
      "Output directory set to C:\\Users\\Valery\\Downloads\\PacientesNinaPro\\Imagenes\\Nina_1250\\Aug\\P011\\Clase_4."
     ]
    },
    {
     "name": "stderr",
     "output_type": "stream",
     "text": [
      "Processing <PIL.Image.Image image mode=RGB size=434x343 at 0x1EA4E2D9E10>: 100%|██████████| 3800/3800 [00:32<00:00, 116.23 Samples/s]\n"
     ]
    },
    {
     "name": "stdout",
     "output_type": "stream",
     "text": [
      "Initialised with 760 image(s) found.\n",
      "Output directory set to C:\\Users\\Valery\\Downloads\\PacientesNinaPro\\Imagenes\\Nina_1250\\Aug\\P011\\Clase_5."
     ]
    },
    {
     "name": "stderr",
     "output_type": "stream",
     "text": [
      "Processing <PIL.Image.Image image mode=RGB size=434x343 at 0x1EA4E305D68>: 100%|██████████| 3800/3800 [00:36<00:00, 104.25 Samples/s]\n"
     ]
    },
    {
     "ename": "OSError",
     "evalue": "The source directory you specified does not exist.",
     "output_type": "error",
     "traceback": [
      "\u001b[1;31m---------------------------------------------------------------------------\u001b[0m",
      "\u001b[1;31mOSError\u001b[0m                                   Traceback (most recent call last)",
      "\u001b[1;32m<ipython-input-2-6e6d7d13c916>\u001b[0m in \u001b[0;36m<module>\u001b[1;34m\u001b[0m\n\u001b[0;32m      2\u001b[0m   \u001b[1;32mfor\u001b[0m \u001b[0mg\u001b[0m \u001b[1;32min\u001b[0m \u001b[0mrange\u001b[0m\u001b[1;33m(\u001b[0m\u001b[1;36m1\u001b[0m\u001b[1;33m,\u001b[0m\u001b[1;36m7\u001b[0m\u001b[1;33m)\u001b[0m\u001b[1;33m:\u001b[0m\u001b[1;33m\u001b[0m\u001b[1;33m\u001b[0m\u001b[0m\n\u001b[0;32m      3\u001b[0m \u001b[1;33m\u001b[0m\u001b[0m\n\u001b[1;32m----> 4\u001b[1;33m     \u001b[0mp\u001b[0m \u001b[1;33m=\u001b[0m \u001b[0mAugmentor\u001b[0m\u001b[1;33m.\u001b[0m\u001b[0mPipeline\u001b[0m\u001b[1;33m(\u001b[0m\u001b[1;34mfr\"C:\\Users\\Valery\\Downloads\\PacientesNinaPro\\Imagenes\\Nina_1250\\P0{i}\\Clase_{g}\"\u001b[0m\u001b[1;33m,\u001b[0m\u001b[1;34mfr\"C:\\Users\\Valery\\Downloads\\PacientesNinaPro\\Imagenes\\Nina_1250\\Aug\\P0{i}\\Clase_{g}\"\u001b[0m\u001b[1;33m)\u001b[0m\u001b[1;33m\u001b[0m\u001b[1;33m\u001b[0m\u001b[0m\n\u001b[0m\u001b[0;32m      5\u001b[0m     \u001b[1;31m# p.zoom(probability=0.3,min_factor=0.8,max_factor=1.5)\u001b[0m\u001b[1;33m\u001b[0m\u001b[1;33m\u001b[0m\u001b[1;33m\u001b[0m\u001b[0m\n\u001b[0;32m      6\u001b[0m     \u001b[0mp\u001b[0m\u001b[1;33m.\u001b[0m\u001b[0mflip_top_bottom\u001b[0m\u001b[1;33m(\u001b[0m\u001b[0mprobability\u001b[0m\u001b[1;33m=\u001b[0m\u001b[1;36m0.4\u001b[0m\u001b[1;33m)\u001b[0m\u001b[1;33m\u001b[0m\u001b[1;33m\u001b[0m\u001b[0m\n",
      "\u001b[1;32m~\\.conda\\envs\\tfrandeon\\lib\\site-packages\\Augmentor\\Pipeline.py\u001b[0m in \u001b[0;36m__init__\u001b[1;34m(self, source_directory, output_directory, save_format)\u001b[0m\n\u001b[0;32m     88\u001b[0m                            \u001b[0moutput_directory\u001b[0m\u001b[1;33m=\u001b[0m\u001b[0moutput_directory\u001b[0m\u001b[1;33m,\u001b[0m\u001b[1;33m\u001b[0m\u001b[1;33m\u001b[0m\u001b[0m\n\u001b[0;32m     89\u001b[0m                            \u001b[0mground_truth_directory\u001b[0m\u001b[1;33m=\u001b[0m\u001b[1;32mNone\u001b[0m\u001b[1;33m,\u001b[0m\u001b[1;33m\u001b[0m\u001b[1;33m\u001b[0m\u001b[0m\n\u001b[1;32m---> 90\u001b[1;33m                            ground_truth_output_directory=output_directory)\n\u001b[0m\u001b[0;32m     91\u001b[0m \u001b[1;33m\u001b[0m\u001b[0m\n\u001b[0;32m     92\u001b[0m     \u001b[1;32mdef\u001b[0m \u001b[0m__call__\u001b[0m\u001b[1;33m(\u001b[0m\u001b[0mself\u001b[0m\u001b[1;33m,\u001b[0m \u001b[0maugmentor_image\u001b[0m\u001b[1;33m)\u001b[0m\u001b[1;33m:\u001b[0m\u001b[1;33m\u001b[0m\u001b[1;33m\u001b[0m\u001b[0m\n",
      "\u001b[1;32m~\\.conda\\envs\\tfrandeon\\lib\\site-packages\\Augmentor\\Pipeline.py\u001b[0m in \u001b[0;36m_populate\u001b[1;34m(self, source_directory, output_directory, ground_truth_directory, ground_truth_output_directory)\u001b[0m\n\u001b[0;32m    133\u001b[0m         \u001b[1;31m# Check if the source directory for the original images to augment exists at all\u001b[0m\u001b[1;33m\u001b[0m\u001b[1;33m\u001b[0m\u001b[1;33m\u001b[0m\u001b[0m\n\u001b[0;32m    134\u001b[0m         \u001b[1;32mif\u001b[0m \u001b[1;32mnot\u001b[0m \u001b[0mos\u001b[0m\u001b[1;33m.\u001b[0m\u001b[0mpath\u001b[0m\u001b[1;33m.\u001b[0m\u001b[0mexists\u001b[0m\u001b[1;33m(\u001b[0m\u001b[0msource_directory\u001b[0m\u001b[1;33m)\u001b[0m\u001b[1;33m:\u001b[0m\u001b[1;33m\u001b[0m\u001b[1;33m\u001b[0m\u001b[0m\n\u001b[1;32m--> 135\u001b[1;33m             \u001b[1;32mraise\u001b[0m \u001b[0mIOError\u001b[0m\u001b[1;33m(\u001b[0m\u001b[1;34m\"The source directory you specified does not exist.\"\u001b[0m\u001b[1;33m)\u001b[0m\u001b[1;33m\u001b[0m\u001b[1;33m\u001b[0m\u001b[0m\n\u001b[0m\u001b[0;32m    136\u001b[0m \u001b[1;33m\u001b[0m\u001b[0m\n\u001b[0;32m    137\u001b[0m         \u001b[1;31m# If a ground truth directory is being specified we will check here if the path exists at all.\u001b[0m\u001b[1;33m\u001b[0m\u001b[1;33m\u001b[0m\u001b[1;33m\u001b[0m\u001b[0m\n",
      "\u001b[1;31mOSError\u001b[0m: The source directory you specified does not exist."
     ]
    }
   ],
   "source": [
    "for i in range(11,12):\n",
    "  for g in range(1,7):\n",
    "\n",
    "    p = Augmentor.Pipeline(fr\"C:\\Users\\Valery\\Downloads\\PacientesNinaPro\\Imagenes\\Nina_1250\\P0{i}\\Clase_{g}\",fr\"C:\\Users\\Valery\\Downloads\\PacientesNinaPro\\Imagenes\\Nina_1250\\Aug\\P0{i}\\Clase_{g}\")\n",
    "    # p.zoom(probability=0.3,min_factor=0.8,max_factor=1.5)\n",
    "    p.flip_top_bottom(probability=0.4)\n",
    "    p.random_brightness(probability=0.3,min_factor=0.3,max_factor=1.2)\n",
    "    p.random_distortion(probability=1,grid_width=4, grid_height=4,magnitude=8)\n",
    "    p.sample(3800)\n",
    "  "
   ]
  },
  {
   "cell_type": "code",
   "execution_count": 4,
   "metadata": {},
   "outputs": [
    {
     "name": "stdout",
     "output_type": "stream",
     "text": [
      "Initialised with 760 image(s) found.\n",
      "Output directory set to C:\\Users\\Valery\\Downloads\\PacientesNinaPro\\Imagenes\\Nina_1250\\Aug\\P011\\Clase_6."
     ]
    },
    {
     "name": "stderr",
     "output_type": "stream",
     "text": [
      "Processing <PIL.Image.Image image mode=RGB size=434x343 at 0x1EA50395D30>: 100%|██████████| 3800/3800 [00:32<00:00, 116.12 Samples/s]\n"
     ]
    }
   ],
   "source": [
    "p = Augmentor.Pipeline(fr\"C:\\Users\\Valery\\Downloads\\PacientesNinaPro\\Imagenes\\Nina_1250\\Aug\\P011\\Clase_6\",fr\"C:\\Users\\Valery\\Downloads\\PacientesNinaPro\\Imagenes\\Nina_1250\\Aug\\P011\\Clase_6\")\n",
    "    # p.zoom(probability=0.3,min_factor=0.8,max_factor=1.5)\n",
    "p.flip_top_bottom(probability=0.4)\n",
    "p.random_brightness(probability=0.3,min_factor=0.3,max_factor=1.2)\n",
    "p.random_distortion(probability=1,grid_width=4, grid_height=4,magnitude=8)\n",
    "p.sample(3800)"
   ]
  }
 ],
 "metadata": {
  "colab": {
   "provenance": []
  },
  "kernelspec": {
   "display_name": "Python 3",
   "language": "python",
   "name": "python3"
  },
  "language_info": {
   "codemirror_mode": {
    "name": "ipython",
    "version": 3
   },
   "file_extension": ".py",
   "mimetype": "text/x-python",
   "name": "python",
   "nbconvert_exporter": "python",
   "pygments_lexer": "ipython3",
   "version": "3.6.13"
  },
  "vscode": {
   "interpreter": {
    "hash": "4e464dbc9a739673fcb81f3011f77eb6b6c479c1237f49654ff4d8b048095462"
   }
  }
 },
 "nbformat": 4,
 "nbformat_minor": 1
}
