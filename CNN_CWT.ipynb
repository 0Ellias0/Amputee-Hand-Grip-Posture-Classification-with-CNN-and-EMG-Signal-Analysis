{
 "cells": [
  {
   "cell_type": "markdown",
   "metadata": {},
   "source": [
    "# Import libraries"
   ]
  },
  {
   "cell_type": "code",
   "execution_count": 4,
   "metadata": {
    "colab": {
     "base_uri": "https://localhost:8080/"
    },
    "id": "e2nE0bKzt2ra",
    "outputId": "3f09a718-93ce-44ae-e887-8304dc8d80ed"
   },
   "outputs": [],
   "source": [
    "import tensorflow as tf \n",
    "from tensorflow.keras.utils import to_categorical\n",
    "from tensorflow.keras.models import Sequential,  Model\n",
    "from tensorflow.keras.layers import Dense, Dropout, Flatten, Input,BatchNormalization, Conv2D, MaxPooling2D, BatchNormalization, LeakyReLU, AveragePooling2D\n",
    "from tensorflow.keras.callbacks import EarlyStopping, History, TensorBoard,ModelCheckpoint\n",
    "from sklearn.model_selection import train_test_split\n",
    "from tensorflow.keras import regularizers\n",
    "from matplotlib.image import imread\n",
    "import matplotlib.pyplot as plt\n",
    "import numpy as np\n",
    "import time \n",
    "import re\n",
    "import os\n",
    "import cv2\n",
    "history = History()\n",
    "#%matplotlib inline"
   ]
  },
  {
   "cell_type": "code",
   "execution_count": 5,
   "metadata": {
    "colab": {
     "base_uri": "https://localhost:8080/"
    },
    "id": "kAY-URZNqqrC",
    "outputId": "3ed9a813-91d2-4c52-a363-cca8760f763f"
   },
   "outputs": [
    {
     "name": "stdout",
     "output_type": "stream",
     "text": [
      "leyendo imagenes de  C:\\Users\\hpalm\\Downloads\\P01\\P01\\\n",
      "C:\\Users\\hpalm\\Downloads\\P01\\P01\\Clase_1 1\n",
      "C:\\Users\\hpalm\\Downloads\\P01\\P01\\Clase_2 2256\n",
      "C:\\Users\\hpalm\\Downloads\\P01\\P01\\Clase_3 2256\n",
      "C:\\Users\\hpalm\\Downloads\\P01\\P01\\Clase_4 2256\n",
      "C:\\Users\\hpalm\\Downloads\\P01\\P01\\Clase_5 2256\n",
      "C:\\Users\\hpalm\\Downloads\\P01\\P01\\Clase_6 2256\n",
      "Directorios leidos: 6\n",
      "Imagenes en cada directorio [2257, 2256, 2256, 2256, 2256, 2255]\n",
      "suma Total de imagenes en subdirs: 13536\n"
     ]
    }
   ],
   "source": [
    "#dirname = r\"D:\\TESIS\\6000 datos_Mexican\\Datos\\P1\\Mexican_Hat_img_augmentation\"\n",
    "dirname = r\"C:\\Users\\hpalm\\Downloads\\P01\\P01\"\n",
    "\n",
    "#dirname = r\"D:\\Nuevas Imagenes\\all_to_one2\" \n",
    "\n",
    "imgpath = dirname+os.sep \n",
    "\n",
    "images = []\n",
    "directories = []\n",
    "dircount = []\n",
    "prevRoot=''\n",
    "cant=0\n",
    "IMAGE_SIZE = (32, 32)\n",
    "\n",
    "print(\"leyendo imagenes de \",imgpath)\n",
    "\n",
    "for root, dirnames, filenames in os.walk(imgpath):\n",
    "    for filename in filenames:\n",
    "        if re.search(\"\\.(jpg|jpeg|png|bmp|tiff)$\", filename):\n",
    "            cant=cant+1\n",
    "            filepath = os.path.join(root, filename)\n",
    "            image = plt.imread(filepath)\n",
    "            image = cv2.resize(image, IMAGE_SIZE)\n",
    "            #image = cv2.cvtColor(image, cv2.COLOR_BGRA2BGR) \n",
    "            images.append(image)\n",
    "            b = \"Leyendo...\" + str(cant)\n",
    "            print (b, end=\"\\r\")\n",
    "            if prevRoot !=root:\n",
    "                print(root, cant)\n",
    "                prevRoot=root\n",
    "                directories.append(root)\n",
    "                dircount.append(cant)\n",
    "                cant=0\n",
    "\n",
    "dircount.append(cant)\n",
    "\n",
    "#dircount=dircount[1:]\n",
    "#dircount[0]=dircount[0] + 1\n",
    "\n",
    "if len(dircount) > 1:\n",
    "    dircount=dircount[1:]\n",
    "    dircount[0]=dircount[0]+1  \n",
    "print('Directorios leidos:',len(directories))\n",
    "print(\"Imagenes en cada directorio\", dircount)\n",
    "print('suma Total de imagenes en subdirs:',sum(dircount))"
   ]
  },
  {
   "cell_type": "markdown",
   "metadata": {
    "id": "SuyL8BOS-SY3"
   },
   "source": [
    "# **DATA PREPARATION**"
   ]
  },
  {
   "cell_type": "code",
   "execution_count": 6,
   "metadata": {
    "colab": {
     "base_uri": "https://localhost:8080/"
    },
    "id": "QA-bTToLq3QT",
    "outputId": "de021a67-e77e-454c-a550-e1a1608af59c"
   },
   "outputs": [
    {
     "name": "stdout",
     "output_type": "stream",
     "text": [
      "Cantidad etiquetas creadas:  13536\n"
     ]
    }
   ],
   "source": [
    "labels=[]\n",
    "indice=0\n",
    "for cantidad in dircount:\n",
    "    for i in range(cantidad):\n",
    "        labels.append(indice)   \n",
    "    indice=indice+1\n",
    "print(\"Cantidad etiquetas creadas: \",len(labels))"
   ]
  },
  {
   "cell_type": "code",
   "execution_count": 7,
   "metadata": {
    "colab": {
     "base_uri": "https://localhost:8080/"
    },
    "id": "DUtb3amOq4QY",
    "outputId": "7e88340e-ea06-4ae6-d808-a4a65cd075b6"
   },
   "outputs": [
    {
     "name": "stdout",
     "output_type": "stream",
     "text": [
      "0 Clase_1\n",
      "1 Clase_2\n",
      "2 Clase_3\n",
      "3 Clase_4\n",
      "4 Clase_5\n",
      "5 Clase_6\n"
     ]
    }
   ],
   "source": [
    "posturas=[]\n",
    "indice=0\n",
    "for directorio in directories:\n",
    "    name = directorio.split(os.sep)\n",
    "    print(indice , name[len(name)-1])\n",
    "    posturas.append(name[len(name)-1])\n",
    "    indice=indice+1"
   ]
  },
  {
   "cell_type": "code",
   "execution_count": 8,
   "metadata": {
    "colab": {
     "base_uri": "https://localhost:8080/"
    },
    "id": "3czPZC4gq9Dh",
    "outputId": "be589d68-6858-40a9-f02d-8c94c4c9a692"
   },
   "outputs": [
    {
     "name": "stdout",
     "output_type": "stream",
     "text": [
      "Total number of outputs :  6\n",
      "Output classes :  [0 1 2 3 4 5]\n"
     ]
    }
   ],
   "source": [
    "y = np.array(labels)\n",
    "X = np.array(images) #convierto de lista a numpy\n",
    "\n",
    "#X = tf.convert_to_tensor(X,dtype=tf.float32) # convertir de arrays a tensors\n",
    "#y = tf.convert_to_tensor(X,dtype=tf.float32)\n",
    "\n",
    "# Find the unique numbers from the train labels\n",
    "classes = np.unique(y)\n",
    "nClasses = len(classes)\n",
    "print('Total number of outputs : ', nClasses)\n",
    "print('Output classes : ', classes)"
   ]
  },
  {
   "cell_type": "code",
   "execution_count": 9,
   "metadata": {
    "colab": {
     "base_uri": "https://localhost:8080/"
    },
    "id": "_mlr178SrLhC",
    "outputId": "53b31588-e229-473c-d550-1f56486e1814"
   },
   "outputs": [
    {
     "name": "stdout",
     "output_type": "stream",
     "text": [
      "Testing data shape :  (1354, 32, 32, 3) (1354,)\n"
     ]
    }
   ],
   "source": [
    "# Test data // for testing at the end after tranning \n",
    "train_X,test_X,train_Y,test_Y = train_test_split(X,y,test_size=0.1)\n",
    "\n",
    "\n",
    "#print('Training data shape : ', train_X.shape, train_Y.shape)\n",
    "print('Testing data shape : ', test_X.shape, test_Y.shape)\n",
    "\n",
    "# validation data // for testing when tranning \n",
    "\n",
    "#train_X,val_X,train_Y,val_Y = train_test_split(train_X,train_Y,test_size=0.1)\n",
    "#print('Training data shape : ', train_X.shape, train_Y.shape)\n",
    "#print('validation data shape : ', val_X.shape, val_Y.shape)"
   ]
  },
  {
   "cell_type": "markdown",
   "metadata": {
    "id": "CI8JqFOs-EKO"
   },
   "source": [
    "# **CNN Training**"
   ]
  },
  {
   "cell_type": "code",
   "execution_count": 15,
   "metadata": {
    "colab": {
     "base_uri": "https://localhost:8080/"
    },
    "id": "cBloc9zBqTr5",
    "outputId": "8cf35868-86a9-4212-f31a-9c413f4fb608"
   },
   "outputs": [],
   "source": [
    "\n",
    "img_x = 128\n",
    "img_y = 128\n",
    "img_z = 3\n",
    "num_classes = 6\n",
    "\n",
    "batch_size = 32\n",
    "epochs = 100\n",
    "\n",
    "# reshape the data into a 4D tensor - (sample_number, x_img_size, y_img_size, num_channels)\n",
    "# because the MNIST is greyscale, we only have a single channel - RGB colour images would have 3\n",
    "input_shape = (img_x, img_y, img_z)\n",
    "\n",
    "\n",
    "#train_X = train_X.astype('float32')\n",
    "#test_X = test_X.astype('float32')\n",
    "#val_X = val_X.astype('float32')\n",
    "\n",
    "#print('train_X shape:', train_X.shape)\n",
    "#print(train_X.shape[0], 'train samples')\n",
    "#print(val_X.shape[0], 'val samples')\n",
    "#print(test_X.shape[0], 'test samples')\n",
    "\n",
    "# convert class vectors to binary class matrices - this is for use in the\n",
    "# categorical_crossentropy loss below\n",
    "#train_Y = tf.keras.utils.to_categorical(train_Y, num_classes)\n",
    "#test_Y = tf.keras.utils.to_categorical(test_Y, num_classes)\n",
    "\n",
    "\n",
    "# Guardar el modelo con nombre del tiempo en que se entreno para no sobreescribir los modelos\n",
    "\n",
    "#NAME =\"model_all_to_one_32px-{}\".format(int(time.time()))\n",
    "\n",
    "#NAME = 'all_to_on_300seg'\n",
    "\n",
    "#tensorboard = TensorBoard(log_dir=r'C:\\Users\\Valery\\Downloads\\PacientesNinaPro\\MYO\\Tensorboard\\k_fold_P1Nina_128')\n",
    "custom_early_stopping = EarlyStopping(monitor=\"loss\",patience=3)"
   ]
  },
  {
   "cell_type": "markdown",
   "metadata": {},
   "source": [
    "## Learning Rate Scheduler"
   ]
  },
  {
   "cell_type": "code",
   "execution_count": 199,
   "metadata": {},
   "outputs": [],
   "source": [
    "from tensorflow.keras.callbacks import LearningRateScheduler\n",
    "\n",
    "def scheduler(epoch, lr):\n",
    "    if epoch == 30:\n",
    "        lr = 0.001\n",
    "        return lr \n",
    "    elif epoch == 60:\n",
    "        lr = 0.0001\n",
    "        return lr\n",
    "    else:\n",
    "        return lr"
   ]
  },
  {
   "cell_type": "markdown",
   "metadata": {},
   "source": [
    "# **K-FOLD VALIDATION**"
   ]
  },
  {
   "cell_type": "code",
   "execution_count": 10,
   "metadata": {},
   "outputs": [],
   "source": [
    "from sklearn.model_selection import StratifiedKFold"
   ]
  },
  {
   "cell_type": "code",
   "execution_count": 11,
   "metadata": {},
   "outputs": [],
   "source": [
    "#checkpoint_filepath = r'C:\\Users\\hpalm\\Desktop\\Programacion\\Proyecto_de_grado\\Jupyter\\Codigo\\Pesos\\k-FOLD_TEST.h5'\n",
    "#check = ModelCheckpoint(filepath=checkpoint_filepath,monitor='val_accuracy',verbose = 1, save_best_only=True)\n",
    "custom_early_stopping = EarlyStopping(monitor=\"loss\",patience=3)"
   ]
  },
  {
   "cell_type": "code",
   "execution_count": 17,
   "metadata": {},
   "outputs": [],
   "source": [
    "# Define el modelo\n",
    "model = Sequential()\n",
    "model.add(Conv2D(32, kernel_size=(3, 3), strides=(1, 1), padding='same', activation='relu', input_shape=(32, 32, 3)))\n",
    "model.add(Dropout(0.2))\n",
    "model.add(Conv2D(8, kernel_size=(3, 3), strides=(2, 2), padding='same', activation='relu'))\n",
    "model.add(Dropout(0.2))\n",
    "model.add(Conv2D(32, kernel_size=(3, 3), strides=(2, 2), padding='same', activation='relu'))\n",
    "model.add(Dropout(0.2))\n",
    "model.add(Conv2D(56, kernel_size=(3, 3), strides=(2, 2), padding='same', activation='relu'))\n",
    "model.add(MaxPooling2D(pool_size=(2, 2), strides=2))\n",
    "model.add(Dropout(0.2))\n",
    "model.add(Flatten())\n",
    "model.add(Dense(6))\n",
    "\n",
    "model.compile(loss=tf.keras.losses.SparseCategoricalCrossentropy(from_logits=True), \n",
    "              optimizer=tf.keras.optimizers.Adam(learning_rate=0.001), \n",
    "              metrics=['accuracy'])"
   ]
  },
  {
   "cell_type": "code",
   "execution_count": 18,
   "metadata": {},
   "outputs": [],
   "source": [
    "# Definir los parámetros de la validación k-fold\n",
    "k = 5  # Número de pliegues\n",
    "skf = StratifiedKFold(n_splits=k, shuffle=True)\n",
    "losses =[]\n",
    "accuracies = []\n",
    "val_losses = []\n",
    "val_accuracies = []"
   ]
  },
  {
   "cell_type": "markdown",
   "metadata": {},
   "source": [
    "## Ciclo de entrenamiento y evaluación con validación k-fold\n"
   ]
  },
  {
   "cell_type": "code",
   "execution_count": 21,
   "metadata": {},
   "outputs": [
    {
     "name": "stdout",
     "output_type": "stream",
     "text": [
      "Epoch 1/100\n",
      "339/339 [==============================] - 9s 27ms/step - loss: 0.3834 - accuracy: 0.8502 - val_loss: 0.2167 - val_accuracy: 0.9513\n",
      "Epoch 2/100\n",
      "339/339 [==============================] - 9s 28ms/step - loss: 0.3694 - accuracy: 0.8601 - val_loss: 0.1898 - val_accuracy: 0.9527\n",
      "Epoch 3/100\n",
      "339/339 [==============================] - 9s 27ms/step - loss: 0.3702 - accuracy: 0.8596 - val_loss: 0.2105 - val_accuracy: 0.9468\n",
      "Epoch 4/100\n",
      "339/339 [==============================] - 9s 27ms/step - loss: 0.3672 - accuracy: 0.8594 - val_loss: 0.2269 - val_accuracy: 0.9409\n",
      "Epoch 5/100\n",
      "339/339 [==============================] - 9s 27ms/step - loss: 0.3582 - accuracy: 0.8607 - val_loss: 0.2300 - val_accuracy: 0.9350\n",
      "Epoch 6/100\n",
      "339/339 [==============================] - 9s 27ms/step - loss: 0.3379 - accuracy: 0.8746 - val_loss: 0.2059 - val_accuracy: 0.9476\n",
      "Epoch 7/100\n",
      "339/339 [==============================] - 9s 27ms/step - loss: 0.3458 - accuracy: 0.8660 - val_loss: 0.2054 - val_accuracy: 0.9498\n",
      "Epoch 8/100\n",
      "339/339 [==============================] - 9s 27ms/step - loss: 0.3401 - accuracy: 0.8747 - val_loss: 0.2205 - val_accuracy: 0.9409\n",
      "Epoch 9/100\n",
      "339/339 [==============================] - 9s 27ms/step - loss: 0.3345 - accuracy: 0.8726 - val_loss: 0.2009 - val_accuracy: 0.9498\n",
      "Epoch 10/100\n",
      "339/339 [==============================] - 9s 27ms/step - loss: 0.3429 - accuracy: 0.8707 - val_loss: 0.2226 - val_accuracy: 0.9409\n",
      "Epoch 11/100\n",
      "339/339 [==============================] - 9s 28ms/step - loss: 0.3413 - accuracy: 0.8703 - val_loss: 0.2114 - val_accuracy: 0.9417\n",
      "Epoch 12/100\n",
      "339/339 [==============================] - 9s 28ms/step - loss: 0.3406 - accuracy: 0.8688 - val_loss: 0.2464 - val_accuracy: 0.9350\n",
      "43/43 [==============================] - 0s 5ms/step - loss: 0.0975 - accuracy: 0.9808\n",
      "Loss: 0.09745810925960541, Accuracy: 0.9807976484298706\n",
      "Epoch 1/100\n",
      "339/339 [==============================] - 10s 29ms/step - loss: 0.3401 - accuracy: 0.8734 - val_loss: 0.1899 - val_accuracy: 0.9549\n",
      "Epoch 2/100\n",
      "339/339 [==============================] - 9s 28ms/step - loss: 0.3462 - accuracy: 0.8657 - val_loss: 0.1616 - val_accuracy: 0.9653\n",
      "Epoch 3/100\n",
      "339/339 [==============================] - 9s 27ms/step - loss: 0.3304 - accuracy: 0.8758 - val_loss: 0.1949 - val_accuracy: 0.9616\n",
      "Epoch 4/100\n",
      "339/339 [==============================] - 9s 27ms/step - loss: 0.3325 - accuracy: 0.8737 - val_loss: 0.1606 - val_accuracy: 0.9660\n",
      "Epoch 5/100\n",
      "339/339 [==============================] - 9s 28ms/step - loss: 0.3289 - accuracy: 0.8732 - val_loss: 0.1697 - val_accuracy: 0.9608\n",
      "Epoch 6/100\n",
      "339/339 [==============================] - 9s 28ms/step - loss: 0.3290 - accuracy: 0.8777 - val_loss: 0.1942 - val_accuracy: 0.9564\n",
      "Epoch 7/100\n",
      "339/339 [==============================] - 9s 27ms/step - loss: 0.3219 - accuracy: 0.8810 - val_loss: 0.1731 - val_accuracy: 0.9601\n",
      "Epoch 8/100\n",
      "339/339 [==============================] - 10s 28ms/step - loss: 0.3253 - accuracy: 0.8743 - val_loss: 0.1892 - val_accuracy: 0.9453\n",
      "Epoch 9/100\n",
      "339/339 [==============================] - 9s 27ms/step - loss: 0.3184 - accuracy: 0.8794 - val_loss: 0.1739 - val_accuracy: 0.9608\n",
      "Epoch 10/100\n",
      "339/339 [==============================] - 9s 28ms/step - loss: 0.3149 - accuracy: 0.8810 - val_loss: 0.1548 - val_accuracy: 0.9623\n",
      "Epoch 11/100\n",
      "339/339 [==============================] - 9s 27ms/step - loss: 0.3136 - accuracy: 0.8848 - val_loss: 0.1660 - val_accuracy: 0.9512\n",
      "Epoch 12/100\n",
      "339/339 [==============================] - 9s 27ms/step - loss: 0.3136 - accuracy: 0.8810 - val_loss: 0.1822 - val_accuracy: 0.9460\n",
      "Epoch 13/100\n",
      "339/339 [==============================] - 9s 28ms/step - loss: 0.3083 - accuracy: 0.8820 - val_loss: 0.1807 - val_accuracy: 0.9520\n",
      "Epoch 14/100\n",
      "339/339 [==============================] - 9s 27ms/step - loss: 0.3285 - accuracy: 0.8824 - val_loss: 0.2165 - val_accuracy: 0.9431\n",
      "Epoch 15/100\n",
      "339/339 [==============================] - 10s 29ms/step - loss: 0.3034 - accuracy: 0.8916 - val_loss: 0.1787 - val_accuracy: 0.9520\n",
      "Epoch 16/100\n",
      "339/339 [==============================] - 10s 29ms/step - loss: 0.3194 - accuracy: 0.8829 - val_loss: 0.1923 - val_accuracy: 0.9483\n",
      "Epoch 17/100\n",
      "339/339 [==============================] - 10s 30ms/step - loss: 0.3006 - accuracy: 0.8861 - val_loss: 0.1855 - val_accuracy: 0.9438\n",
      "Epoch 18/100\n",
      "339/339 [==============================] - 10s 30ms/step - loss: 0.3048 - accuracy: 0.8903 - val_loss: 0.1768 - val_accuracy: 0.9638\n",
      "Epoch 19/100\n",
      "339/339 [==============================] - 10s 30ms/step - loss: 0.2953 - accuracy: 0.8883 - val_loss: 0.1814 - val_accuracy: 0.9460\n",
      "Epoch 20/100\n",
      "339/339 [==============================] - 10s 31ms/step - loss: 0.2984 - accuracy: 0.8907 - val_loss: 0.1800 - val_accuracy: 0.9475\n",
      "Epoch 21/100\n",
      "339/339 [==============================] - 10s 30ms/step - loss: 0.3008 - accuracy: 0.8838 - val_loss: 0.1805 - val_accuracy: 0.9534\n",
      "Epoch 22/100\n",
      "339/339 [==============================] - 10s 30ms/step - loss: 0.2988 - accuracy: 0.8912 - val_loss: 0.1846 - val_accuracy: 0.9438\n",
      "43/43 [==============================] - 0s 5ms/step - loss: 0.0790 - accuracy: 0.9830\n",
      "Loss: 0.07903861254453659, Accuracy: 0.9830132722854614\n",
      "Epoch 1/100\n",
      "339/339 [==============================] - 10s 30ms/step - loss: 0.3152 - accuracy: 0.8820 - val_loss: 0.1250 - val_accuracy: 0.9800\n",
      "Epoch 2/100\n",
      "339/339 [==============================] - 11s 32ms/step - loss: 0.2977 - accuracy: 0.8896 - val_loss: 0.1223 - val_accuracy: 0.9697\n",
      "Epoch 3/100\n",
      "339/339 [==============================] - 11s 31ms/step - loss: 0.3079 - accuracy: 0.8878 - val_loss: 0.1403 - val_accuracy: 0.9741\n",
      "Epoch 4/100\n",
      "339/339 [==============================] - 12s 36ms/step - loss: 0.3063 - accuracy: 0.8867 - val_loss: 0.1647 - val_accuracy: 0.9682\n",
      "Epoch 5/100\n",
      "339/339 [==============================] - 10s 31ms/step - loss: 0.3025 - accuracy: 0.8846 - val_loss: 0.1626 - val_accuracy: 0.9593\n",
      "43/43 [==============================] - 0s 5ms/step - loss: 0.0335 - accuracy: 0.9963\n",
      "Loss: 0.0335250198841095, Accuracy: 0.9963072538375854\n",
      "Epoch 1/100\n",
      "339/339 [==============================] - 11s 31ms/step - loss: 0.3173 - accuracy: 0.8800 - val_loss: 0.1124 - val_accuracy: 0.9800\n",
      "Epoch 2/100\n",
      "339/339 [==============================] - 11s 31ms/step - loss: 0.3000 - accuracy: 0.8883 - val_loss: 0.1254 - val_accuracy: 0.9727\n",
      "Epoch 3/100\n",
      "339/339 [==============================] - 11s 33ms/step - loss: 0.2931 - accuracy: 0.8894 - val_loss: 0.1188 - val_accuracy: 0.9778\n",
      "Epoch 4/100\n",
      "339/339 [==============================] - 12s 34ms/step - loss: 0.2935 - accuracy: 0.8923 - val_loss: 0.1097 - val_accuracy: 0.9800\n",
      "Epoch 5/100\n",
      "339/339 [==============================] - 10s 30ms/step - loss: 0.2917 - accuracy: 0.8896 - val_loss: 0.1137 - val_accuracy: 0.9763\n",
      "Epoch 6/100\n",
      "339/339 [==============================] - 10s 30ms/step - loss: 0.2874 - accuracy: 0.8962 - val_loss: 0.1423 - val_accuracy: 0.9623\n",
      "Epoch 7/100\n",
      "339/339 [==============================] - 11s 32ms/step - loss: 0.2861 - accuracy: 0.8947 - val_loss: 0.1120 - val_accuracy: 0.9800\n",
      "Epoch 8/100\n",
      "339/339 [==============================] - 12s 35ms/step - loss: 0.2882 - accuracy: 0.8940 - val_loss: 0.1267 - val_accuracy: 0.9579\n",
      "Epoch 9/100\n",
      "339/339 [==============================] - 12s 34ms/step - loss: 0.2936 - accuracy: 0.8904 - val_loss: 0.1238 - val_accuracy: 0.9734\n",
      "Epoch 10/100\n",
      "339/339 [==============================] - 11s 32ms/step - loss: 0.2847 - accuracy: 0.8943 - val_loss: 0.1086 - val_accuracy: 0.9823\n",
      "Epoch 11/100\n",
      "339/339 [==============================] - 11s 32ms/step - loss: 0.2873 - accuracy: 0.8921 - val_loss: 0.1208 - val_accuracy: 0.9749\n",
      "Epoch 12/100\n",
      "339/339 [==============================] - 11s 31ms/step - loss: 0.3001 - accuracy: 0.8867 - val_loss: 0.1317 - val_accuracy: 0.9682\n",
      "Epoch 13/100\n",
      "339/339 [==============================] - 10s 31ms/step - loss: 0.2840 - accuracy: 0.8965 - val_loss: 0.1242 - val_accuracy: 0.9719\n",
      "Epoch 14/100\n",
      "339/339 [==============================] - 11s 32ms/step - loss: 0.2956 - accuracy: 0.8909 - val_loss: 0.1314 - val_accuracy: 0.9697\n",
      "Epoch 15/100\n",
      "339/339 [==============================] - 11s 34ms/step - loss: 0.2941 - accuracy: 0.8923 - val_loss: 0.1456 - val_accuracy: 0.9616\n",
      "Epoch 16/100\n",
      "339/339 [==============================] - 10s 29ms/step - loss: 0.2841 - accuracy: 0.8940 - val_loss: 0.1209 - val_accuracy: 0.9690\n",
      "43/43 [==============================] - 0s 5ms/step - loss: 0.0507 - accuracy: 0.9897\n",
      "Loss: 0.05073101818561554, Accuracy: 0.9896602630615234\n",
      "Epoch 1/100\n",
      "339/339 [==============================] - 10s 29ms/step - loss: 0.2817 - accuracy: 0.8963 - val_loss: 0.0983 - val_accuracy: 0.9808\n",
      "Epoch 2/100\n",
      "339/339 [==============================] - 10s 29ms/step - loss: 0.2774 - accuracy: 0.8993 - val_loss: 0.1058 - val_accuracy: 0.9763\n",
      "Epoch 3/100\n",
      "339/339 [==============================] - 10s 29ms/step - loss: 0.2762 - accuracy: 0.8972 - val_loss: 0.1196 - val_accuracy: 0.9704\n",
      "Epoch 4/100\n",
      "339/339 [==============================] - 10s 29ms/step - loss: 0.2841 - accuracy: 0.8982 - val_loss: 0.0926 - val_accuracy: 0.9808\n",
      "Epoch 5/100\n",
      "339/339 [==============================] - 10s 30ms/step - loss: 0.2794 - accuracy: 0.8985 - val_loss: 0.1220 - val_accuracy: 0.9756\n",
      "Epoch 6/100\n",
      "339/339 [==============================] - 12s 36ms/step - loss: 0.2921 - accuracy: 0.8928 - val_loss: 0.1190 - val_accuracy: 0.9763\n",
      "43/43 [==============================] - 0s 7ms/step - loss: 0.0390 - accuracy: 0.9956\n",
      "Loss: 0.03896435350179672, Accuracy: 0.9955686926841736\n"
     ]
    }
   ],
   "source": [
    "for train_index, test_index in skf.split(X, y):\n",
    "    # Dividir los datos en conjuntos de entrenamiento y prueba para esta iteración\n",
    "    # Dividir los datos en conjuntos de entrenamiento, validación y prueba para esta iteración\n",
    "    \n",
    "    # Dividir los datos en conjuntos de entrenamiento, validación y prueba para esta iteración\n",
    "    X_train, X_val, X_test = X[train_index], X[test_index][:len(test_index)//2], X[test_index][len(test_index)//2:]\n",
    "    y_train, y_val, y_test = y[train_index], y[test_index][:len(test_index)//2], y[test_index][len(test_index)//2:]\n",
    "\n",
    "#     model = Sequential()\n",
    "#     model.add(Conv2D(32, kernel_size=(3, 3), strides=(1, 1), padding='same', activation='relu', input_shape=(128, 128, 3)))\n",
    "#     model.add(Dropout(0.2))\n",
    "#     model.add(Conv2D(8, kernel_size=(3, 3), strides=(2, 2), padding='same', activation='relu'))\n",
    "#     model.add(Dropout(0.2))\n",
    "#     model.add(Conv2D(32, kernel_size=(3, 3), strides=(2, 2), padding='same', activation='relu'))\n",
    "#     model.add(Dropout(0.2))\n",
    "#     model.add(Conv2D(56, kernel_size=(3, 3), strides=(2, 2), padding='same', activation='relu'))\n",
    "#     model.add(MaxPooling2D(pool_size=(2, 2), strides=2))\n",
    "#     model.add(Dropout(0.2))\n",
    "#     model.add(Flatten())\n",
    "#     model.add(Dense(6))\n",
    "\n",
    "#     model.compile(loss=tf.keras.losses.SparseCategoricalCrossentropy(from_logits=True), \n",
    "#               optimizer=tf.keras.optimizers.Adam(learning_rate=0.001), \n",
    "#               metrics=['accuracy'])\n",
    "\n",
    "\n",
    "#     model.compile(loss=tf.keras.losses.SparseCategoricalCrossentropy(from_logits=True), \n",
    "#               optimizer=tf.keras.optimizers.Adam(learning_rate=0.001), \n",
    "#               metrics=['accuracy'])\n",
    "    model_train = model.fit(X_train,y_train,validation_data=(X_val, y_val), batch_size=batch_size, \n",
    "          epochs=epochs, verbose=1,  \n",
    "          callbacks=[custom_early_stopping])\n",
    "    \n",
    "    loss, accuracy = model.evaluate(X_test, y_test, verbose=1)\n",
    "    losses.append(loss)\n",
    "    accuracies.append(accuracy)\n",
    "    print(f\"Loss: {loss}, Accuracy: {accuracy}\")\n",
    "    # Guardar el val_loss y el val_accuracy final de esta iteración\n",
    "    val_loss = model_train.history['val_loss'][-1]\n",
    "    val_accuracy = model_train.history['val_accuracy'][-1]\n",
    "    val_losses.append(val_loss)\n",
    "    val_accuracies.append(val_accuracy)"
   ]
  },
  {
   "cell_type": "code",
   "execution_count": 20,
   "metadata": {},
   "outputs": [
    {
     "name": "stdout",
     "output_type": "stream",
     "text": [
      "Promedio de Loss: nan, Promedio de Accuracy: nan\n"
     ]
    },
    {
     "name": "stderr",
     "output_type": "stream",
     "text": [
      "c:\\Users\\hpalm\\anaconda3\\envs\\tfradeon\\lib\\site-packages\\numpy\\core\\fromnumeric.py:3373: RuntimeWarning: Mean of empty slice.\n",
      "  out=out, **kwargs)\n",
      "c:\\Users\\hpalm\\anaconda3\\envs\\tfradeon\\lib\\site-packages\\numpy\\core\\_methods.py:170: RuntimeWarning: invalid value encountered in double_scalars\n",
      "  ret = ret.dtype.type(ret / rcount)\n"
     ]
    }
   ],
   "source": [
    "# Calcular el promedio del accuracy y la pérdida\n",
    "avg_loss = np.mean(losses)\n",
    "avg_accuracy = np.max(accuracies)\n",
    "\n",
    "# Calcular el promedio de val_loss y val_accuracy\n",
    "avg_val_loss = np.mean(val_losses)\n",
    "avg_val_accuracy = np.mean(val_accuracies)\n",
    "\n",
    "print(f\"Promedio de Loss: {avg_val_loss}, Promedio de Accuracy: {avg_val_accuracy}\")"
   ]
  },
  {
   "cell_type": "markdown",
   "metadata": {},
   "source": [
    "# **hyperparametor tuning**"
   ]
  },
  {
   "cell_type": "code",
   "execution_count": null,
   "metadata": {},
   "outputs": [],
   "source": [
    "from kerastuner import RandomSearch \n",
    "from kerastuner.engine.hyperparameters import HyperParameters"
   ]
  },
  {
   "cell_type": "code",
   "execution_count": null,
   "metadata": {},
   "outputs": [],
   "source": [
    "LOG_DIR = f\"{int(time.time())}\""
   ]
  },
  {
   "cell_type": "code",
   "execution_count": null,
   "metadata": {},
   "outputs": [],
   "source": [
    "def build_model(hp):  \n",
    "  model = tf.keras.models.Sequential([\n",
    "    Conv2D(\n",
    "        filters=hp.Int('conv_1_filter', min_value=8, max_value=32, step=8),\n",
    "        kernel_size=hp.Choice('conv_1_kernel', values = [3,5]),\n",
    "        padding='same',\n",
    "        activation='relu',\n",
    "        input_shape=(32,32,3)\n",
    "    ),\n",
    "    MaxPooling2D(\n",
    "      pool_size=(2, 2),\n",
    "      strides=2\n",
    "    ),\n",
    "    Conv2D(\n",
    "        filters=hp.Int('conv_2_filter', min_value=16, max_value=64, step=8),\n",
    "        kernel_size=hp.Choice('conv_2_kernel', values = [3,5]),\n",
    "        padding='same',\n",
    "        activation='relu'\n",
    "    ),\n",
    "    MaxPooling2D(\n",
    "      pool_size=(2, 2),\n",
    "      strides=2\n",
    "    ),\n",
    "    Flatten(),\n",
    "    Dense(\n",
    "        units=hp.Int('dense_1_units', min_value=16, max_value=128, step=16),\n",
    "        activation='relu'\n",
    "    ),\n",
    "    Dense(6, activation='softmax')\n",
    "  ])\n",
    "  \n",
    "  model.compile(optimizer=tf.keras.optimizers.Adam(hp.Choice('learning_rate', values=[1e-2, 1e-3])),\n",
    "              loss=tf.keras.losses.SparseCategoricalCrossentropy(from_logits=True),\n",
    "              metrics=['accuracy'])\n",
    "  \n",
    "  return model"
   ]
  },
  {
   "cell_type": "code",
   "execution_count": null,
   "metadata": {},
   "outputs": [],
   "source": [
    "tuner_search=RandomSearch(build_model, objective='val_loss',max_trials=5, executions_per_trial = 2,directory=r'C:\\Users\\hpalm\\Desktop\\Programacion\\Proyecto_de_grado\\Jupyter\\Codigo\\hyperparameters',project_name='sEMG Clasification')"
   ]
  },
  {
   "cell_type": "code",
   "execution_count": null,
   "metadata": {},
   "outputs": [],
   "source": [
    "tuner_search.search(train_X, train_Y,epochs=20,validation_data=(val_X, val_Y))"
   ]
  },
  {
   "cell_type": "code",
   "execution_count": null,
   "metadata": {},
   "outputs": [],
   "source": [
    "model = tuner_search.get_best_models(num_models=1)[0]"
   ]
  },
  {
   "cell_type": "code",
   "execution_count": null,
   "metadata": {},
   "outputs": [],
   "source": [
    "model.summary()"
   ]
  },
  {
   "cell_type": "markdown",
   "metadata": {},
   "source": [
    "#  **Showing architecture**"
   ]
  },
  {
   "cell_type": "code",
   "execution_count": 207,
   "metadata": {},
   "outputs": [
    {
     "name": "stdout",
     "output_type": "stream",
     "text": [
      "Model: \"sequential_47\"\n",
      "_________________________________________________________________\n",
      "Layer (type)                 Output Shape              Param #   \n",
      "=================================================================\n",
      "conv2d_188 (Conv2D)          (None, 128, 128, 32)      896       \n",
      "_________________________________________________________________\n",
      "dropout_188 (Dropout)        (None, 128, 128, 32)      0         \n",
      "_________________________________________________________________\n",
      "conv2d_189 (Conv2D)          (None, 64, 64, 8)         2312      \n",
      "_________________________________________________________________\n",
      "dropout_189 (Dropout)        (None, 64, 64, 8)         0         \n",
      "_________________________________________________________________\n",
      "conv2d_190 (Conv2D)          (None, 32, 32, 32)        2336      \n",
      "_________________________________________________________________\n",
      "dropout_190 (Dropout)        (None, 32, 32, 32)        0         \n",
      "_________________________________________________________________\n",
      "conv2d_191 (Conv2D)          (None, 16, 16, 56)        16184     \n",
      "_________________________________________________________________\n",
      "max_pooling2d_47 (MaxPooling (None, 8, 8, 56)          0         \n",
      "_________________________________________________________________\n",
      "dropout_191 (Dropout)        (None, 8, 8, 56)          0         \n",
      "_________________________________________________________________\n",
      "flatten_47 (Flatten)         (None, 3584)              0         \n",
      "_________________________________________________________________\n",
      "dense_47 (Dense)             (None, 6)                 21510     \n",
      "=================================================================\n",
      "Total params: 43,238\n",
      "Trainable params: 43,238\n",
      "Non-trainable params: 0\n",
      "_________________________________________________________________\n"
     ]
    },
    {
     "data": {
      "image/png": "[encoded data removed]",
      "text/plain": [
       "<PIL.Image.Image image mode=RGBA size=768x719 at 0x1EF09C2F828>"
      ]
     },
     "execution_count": 207,
     "metadata": {},
     "output_type": "execute_result"
    }
   ],
   "source": [
    "#from tensorflow.keras.utils import plot_model\n",
    "import visualkeras\n",
    "from PIL import ImageFont\n",
    "\n",
    "\n",
    "model.summary()\n",
    "\n",
    "\n",
    "visualkeras.layered_view(model, legend=True)"
   ]
  },
  {
   "cell_type": "code",
   "execution_count": 208,
   "metadata": {},
   "outputs": [],
   "source": [
    "def visualizacion_resultados(history):\n",
    "  \n",
    "  fig, ax = plt.subplots(1,2)\n",
    "  acc = history.history['acc']\n",
    "  loss = history.history['loss']\n",
    "  val_acc = history.history['val_acc']\n",
    "  val_loss = history.history['val_loss']\n",
    "  epochs  = range(len(acc))\n",
    "  fig.set_size_inches(16,9)\n",
    "\n",
    "  ax[0].plot(epochs,acc,'go-',label = 'Entrenamiento accuracy')\n",
    "  ax[0].plot(epochs,val_acc,'ro-',label = 'validacion acurracy')\n",
    "  ax[0].set_title('Entrenamiento & validacion accuracy')\n",
    "  ax[0].legend()\n",
    "  ax[0].set_xlabel('Epochs')\n",
    "  ax[0].set_ylabel('accuracy')\n",
    "\n",
    "  ax[1].plot(epochs,loss,'go-',label = 'Entrenamiento Loss')\n",
    "  ax[1].plot(epochs,val_loss,'ro-',label = 'validacion Loss')\n",
    "  ax[1].set_title('Entrenamiento & validacion Test')\n",
    "  ax[1].legend()\n",
    "  ax[1].set_xlabel('Epochs')\n",
    "  ax[1].set_ylabel('Loss')\n",
    "\n",
    "  plt.show()"
   ]
  },
  {
   "cell_type": "code",
   "execution_count": 209,
   "metadata": {
    "colab": {
     "base_uri": "https://localhost:8080/",
     "height": 545
    },
    "id": "K6EL2lPdI8rG",
    "outputId": "07b45139-b8c9-4a09-eeb0-9db6137ff1ea"
   },
   "outputs": [
    {
     "data": {
      "image/png": "[encoded data removed]",
      "text/plain": [
       "<Figure size 1152x648 with 2 Axes>"
      ]
     },
     "metadata": {
      "needs_background": "light"
     },
     "output_type": "display_data"
    }
   ],
   "source": [
    "visualizacion_resultados(model_train)"
   ]
  },
  {
   "cell_type": "markdown",
   "metadata": {
    "id": "onxLbvNe2Rqa"
   },
   "source": [
    "# **Generate predictions**"
   ]
  },
  {
   "cell_type": "code",
   "execution_count": 23,
   "metadata": {},
   "outputs": [],
   "source": [
    "model.save(r\"models/prueba.h5\") "
   ]
  },
  {
   "cell_type": "code",
   "execution_count": 211,
   "metadata": {
    "colab": {
     "base_uri": "https://localhost:8080/"
    },
    "id": "ltb2_F8gLuwe",
    "outputId": "cedaa8fc-1502-4d2a-e7e3-c02ce0cc8ec0"
   },
   "outputs": [],
   "source": [
    "predicted_classes2 = model.predict(test_X)\n"
   ]
  },
  {
   "cell_type": "code",
   "execution_count": 212,
   "metadata": {
    "id": "FltHo13EL10k"
   },
   "outputs": [],
   "source": [
    "predicted_classes=[]\n",
    "for predicted_sport in predicted_classes2:\n",
    "    predicted_classes.append(predicted_sport.tolist().index(max(predicted_sport)))\n",
    "predicted_classes=np.array(predicted_classes)"
   ]
  },
  {
   "cell_type": "code",
   "execution_count": 213,
   "metadata": {
    "colab": {
     "base_uri": "https://localhost:8080/"
    },
    "id": "p-l1OSkXMNw8",
    "outputId": "dbeed208-672b-4aff-e9a4-8123491a6d9e"
   },
   "outputs": [
    {
     "data": {
      "text/plain": [
       "((2736,), (2736,))"
      ]
     },
     "execution_count": 213,
     "metadata": {},
     "output_type": "execute_result"
    }
   ],
   "source": [
    "predicted_classes.shape, test_Y.shape"
   ]
  },
  {
   "cell_type": "code",
   "execution_count": 214,
   "metadata": {
    "colab": {
     "base_uri": "https://localhost:8080/"
    },
    "id": "1oa9JAIqHU4Z",
    "outputId": "d45e4aab-38f1-4493-d82f-b94afdb949af"
   },
   "outputs": [
    {
     "data": {
      "text/plain": [
       "2"
      ]
     },
     "execution_count": 214,
     "metadata": {},
     "output_type": "execute_result"
    }
   ],
   "source": [
    "#rounded_labels = np.argmax(test_Y, axis=1)\n",
    "rounded_labels = test_Y\n",
    "rounded_labels[5]"
   ]
  },
  {
   "cell_type": "code",
   "execution_count": 191,
   "metadata": {},
   "outputs": [
    {
     "name": "stdout",
     "output_type": "stream",
     "text": [
      "2736/2736 [==============================] - 1s 394us/sample - loss: 0.6749 - acc: 0.7431\n"
     ]
    },
    {
     "data": {
      "text/plain": [
       "[0.6749312947368065, 0.7430556]"
      ]
     },
     "execution_count": 191,
     "metadata": {},
     "output_type": "execute_result"
    }
   ],
   "source": [
    "model.evaluate(test_X,test_Y)"
   ]
  },
  {
   "cell_type": "markdown",
   "metadata": {
    "id": "ikcTgPSMzaV0"
   },
   "source": [
    "# **MATRIX CONFUSION**"
   ]
  },
  {
   "cell_type": "code",
   "execution_count": 165,
   "metadata": {
    "id": "-zVQWqyPvAci"
   },
   "outputs": [],
   "source": [
    "from sklearn.metrics import confusion_matrix\n",
    "import itertools\n",
    "\n",
    "\n",
    "#predicted_classes_m = np.argmax(predicted_classes,axis=1)\n",
    "#test_Y_m = np.argmax(test_Y,axis=1)\n",
    "#Esto es dificil de leer \n",
    "\n",
    "#confusion_matrix(test_Y, predicted_classes_m)\n",
    "\n",
    "cm = confusion_matrix(rounded_labels,predicted_classes)\n",
    "\n"
   ]
  },
  {
   "cell_type": "code",
   "execution_count": 166,
   "metadata": {
    "id": "RkIHtxs4JK6r"
   },
   "outputs": [],
   "source": [
    "def plot_confusion_matrix(cm, classes,\n",
    "                          normalize=True,\n",
    "                          title='Confusion matrix',\n",
    "                          cmap=plt.cm.Blues):\n",
    "    \"\"\"\n",
    "    This function prints and plots the confusion matrix.\n",
    "    Normalization can be applied by setting `normalize=True`.\n",
    "    \"\"\"\n",
    "    plt.imshow(cm, interpolation='nearest', cmap=cmap)\n",
    "    plt.title(title)\n",
    "    plt.colorbar()\n",
    "    tick_marks = np.arange(len(classes))\n",
    "    plt.xticks(tick_marks, classes, rotation=45)\n",
    "    plt.yticks(tick_marks, classes)\n",
    "\n",
    "    if normalize:\n",
    "        cm = cm.astype('float') / cm.sum(axis=1)[:, np.newaxis]\n",
    "        print(\"Normalized confusion matrix\")\n",
    "    else:\n",
    "        print('Confusion matrix, without normalization')\n",
    "\n",
    "    print(cm)\n",
    "\n",
    "    thresh = cm.max() / 2.\n",
    "    for i, j in itertools.product(range(cm.shape[0]), range(cm.shape[1])):\n",
    "        plt.text(j, i, format(cm[i, j],'.2f'),\n",
    "                 horizontalalignment=\"center\",\n",
    "                 color=\"white\" if cm[i, j] > thresh else \"black\")\n",
    "\n",
    "    plt.tight_layout()\n",
    "    plt.ylabel('True label')\n",
    "    plt.xlabel('Predicted label')\n",
    "    #plt.savefig(r'C:\\Users\\hpalm\\Desktop\\Programacion\\Proyecto_de_grado\\Jupyter\\Matrices de confusion\\all_to_one_32_18_1_2deci.png', transparent = False, bbox_inches = 'tight')"
   ]
  },
  {
   "cell_type": "code",
   "execution_count": 167,
   "metadata": {
    "colab": {
     "base_uri": "https://localhost:8080/",
     "height": 433
    },
    "id": "lPl10utqJSh4",
    "outputId": "493cb281-a4b8-48bb-e5fe-059cb2d0d41d"
   },
   "outputs": [
    {
     "name": "stdout",
     "output_type": "stream",
     "text": [
      "Normalized confusion matrix\n",
      "[[0.78440367 0.04816514 0.06192661 0.03669725 0.06192661 0.00688073]\n",
      " [0.0521327  0.77014218 0.07345972 0.03080569 0.07109005 0.00236967]\n",
      " [0.0480167  0.03340292 0.84133612 0.04175365 0.03340292 0.00208768]\n",
      " [0.0326087  0.03043478 0.06956522 0.79565217 0.06086957 0.01086957]\n",
      " [0.0375     0.04166667 0.05       0.03958333 0.80833333 0.02291667]\n",
      " [0.         0.00217865 0.00217865 0.         0.0043573  0.9912854 ]]\n"
     ]
    },
    {
     "data": {
      "image/png": "[encoded data removed]",
      "text/plain": [
       "<Figure size 432x288 with 2 Axes>"
      ]
     },
     "metadata": {
      "needs_background": "light"
     },
     "output_type": "display_data"
    }
   ],
   "source": [
    "cm_plot_labels = ['Open','WaveIn','WaveOut','Pinch','Fist','Rest']\n",
    "plot_confusion_matrix(cm,cm_plot_labels, title = 'Confusion Matrix')\n"
   ]
  },
  {
   "cell_type": "markdown",
   "metadata": {
    "id": "M8kQOnr5rkgc"
   },
   "source": [
    "# **METRICS OF THE CONFUSION MATRIX**"
   ]
  },
  {
   "cell_type": "code",
   "execution_count": 168,
   "metadata": {
    "colab": {
     "base_uri": "https://localhost:8080/"
    },
    "id": "U3Sq8Rn9e4E0",
    "outputId": "2bfa5804-eab4-472d-c0e2-f4aea97dc921"
   },
   "outputs": [
    {
     "name": "stdout",
     "output_type": "stream",
     "text": [
      "Accuracy (Polynomial Kernel):  83.30\n",
      "F1 (Polynomial Kernel):  83.24\n",
      "Recall_Score (Polynomial Kernel):  83.19\n",
      "Precision (Polynomial Kernel):  83.34\n"
     ]
    }
   ],
   "source": [
    "from sklearn.metrics import accuracy_score, precision_score, recall_score, f1_score\n",
    "\n",
    "\n",
    "poly_accuracy = accuracy_score(rounded_labels, predicted_classes)\n",
    "poly_f1 = f1_score(rounded_labels, predicted_classes, average='weighted')\n",
    "poly_recall = recall_score(rounded_labels, predicted_classes, average='macro')\n",
    "poly_precision = precision_score(rounded_labels, predicted_classes, average='macro')\n",
    "\n",
    "print('Accuracy (Polynomial Kernel): ', \"%.2f\" % (poly_accuracy*100))\n",
    "print('F1 (Polynomial Kernel): ', \"%.2f\" % (poly_f1*100))\n",
    "print('Recall_Score (Polynomial Kernel): ', \"%.2f\" % (poly_recall*100))\n",
    "print('Precision (Polynomial Kernel): ', \"%.2f\" % (poly_precision*100))"
   ]
  }
 ],
 "metadata": {
  "accelerator": "GPU",
  "colab": {
   "provenance": []
  },
  "gpuClass": "standard",
  "kernelspec": {
   "display_name": "Python 3",
   "language": "python",
   "name": "python3"
  },
  "language_info": {
   "codemirror_mode": {
    "name": "ipython",
    "version": 3
   },
   "file_extension": ".py",
   "mimetype": "text/x-python",
   "name": "python",
   "nbconvert_exporter": "python",
   "pygments_lexer": "ipython3",
   "version": "3.6.13"
  },
  "vscode": {
   "interpreter": {
    "hash": "57fc4b0f5552623463f9119f20479b99d9b3365d1a2b93aaa80b922e042a75a0"
   }
  }
 },
 "nbformat": 4,
 "nbformat_minor": 1
}
