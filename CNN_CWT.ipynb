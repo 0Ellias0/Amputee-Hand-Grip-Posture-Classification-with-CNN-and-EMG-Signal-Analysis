{
 "cells": [
  {
   "cell_type": "markdown",
   "metadata": {},
   "source": [
    "# **Import Libraries**"
   ]
  },
  {
   "cell_type": "code",
   "execution_count": 2,
   "metadata": {
    "colab": {
     "base_uri": "https://localhost:8080/"
    },
    "id": "e2nE0bKzt2ra",
    "outputId": "3f09a718-93ce-44ae-e887-8304dc8d80ed"
   },
   "outputs": [],
   "source": [
    "import tensorflow as tf \n",
    "from tensorflow.keras.utils import to_categorical\n",
    "from tensorflow.keras.models import Sequential\n",
    "from tensorflow.keras.layers import Dense, Dropout, Flatten, Input, BatchNormalization, Conv2D, MaxPooling2D\n",
    "from tensorflow.keras.callbacks import EarlyStopping, History, TensorBoard, ModelCheckpoint\n",
    "from sklearn.model_selection import train_test_split\n",
    "from tensorflow.keras import regularizers\n",
    "from matplotlib.image import imread\n",
    "import matplotlib.pyplot as plt\n",
    "import numpy as np\n",
    "import time \n",
    "import re\n",
    "import os\n",
    "import cv2\n",
    "history = History()\n",
    "#%matplotlib inline"
   ]
  },
  {
   "cell_type": "code",
   "execution_count": 3,
   "metadata": {
    "colab": {
     "base_uri": "https://localhost:8080/"
    },
    "id": "kAY-URZNqqrC",
    "outputId": "3ed9a813-91d2-4c52-a363-cca8760f763f"
   },
   "outputs": [
    {
     "name": "stdout",
     "output_type": "stream",
     "text": [
      "leyendo imagenes de  C:\\Users\\hpalm\\Downloads\\P01\\P01\\\n",
      "C:\\Users\\hpalm\\Downloads\\P01\\P01\\Clase_1 1\n",
      "C:\\Users\\hpalm\\Downloads\\P01\\P01\\Clase_2 2256\n",
      "C:\\Users\\hpalm\\Downloads\\P01\\P01\\Clase_3 2256\n",
      "C:\\Users\\hpalm\\Downloads\\P01\\P01\\Clase_4 2256\n",
      "C:\\Users\\hpalm\\Downloads\\P01\\P01\\Clase_5 2256\n",
      "C:\\Users\\hpalm\\Downloads\\P01\\P01\\Clase_6 2256\n",
      "Directorios leidos: 6\n",
      "Imagenes en cada directorio [2257, 2256, 2256, 2256, 2256, 2255]\n",
      "suma Total de imagenes en subdirs: 13536\n"
     ]
    }
   ],
   "source": [
    "#dirname = r\"D:\\TESIS\\6000 datos_Mexican\\Datos\\P1\\Mexican_Hat_img_augmentation\"\n",
    "dirname = r\"C:\\Users\\hpalm\\Downloads\\P01\\P01\"\n",
    "\n",
    "#dirname = r\"D:\\Nuevas Imagenes\\all_to_one2\" \n",
    "\n",
    "imgpath = dirname+os.sep \n",
    "\n",
    "images = []\n",
    "directories = []\n",
    "dircount = []\n",
    "prevRoot=''\n",
    "cant=0\n",
    "IMAGE_SIZE = (32, 32)\n",
    "\n",
    "print(\"leyendo imagenes de \",imgpath)\n",
    "\n",
    "for root, dirnames, filenames in os.walk(imgpath):\n",
    "    for filename in filenames:\n",
    "        if re.search(\"\\.(jpg|jpeg|png|bmp|tiff)$\", filename):\n",
    "            cant=cant+1\n",
    "            filepath = os.path.join(root, filename)\n",
    "            image = plt.imread(filepath)\n",
    "            image = cv2.resize(image, IMAGE_SIZE)\n",
    "            #image = cv2.cvtColor(image, cv2.COLOR_BGRA2BGR) \n",
    "            images.append(image)\n",
    "            b = \"Leyendo...\" + str(cant)\n",
    "            print (b, end=\"\\r\")\n",
    "            if prevRoot !=root:\n",
    "                print(root, cant)\n",
    "                prevRoot=root\n",
    "                directories.append(root)\n",
    "                dircount.append(cant)\n",
    "                cant=0\n",
    "\n",
    "dircount.append(cant)\n",
    "\n",
    "#dircount=dircount[1:]\n",
    "#dircount[0]=dircount[0] + 1\n",
    "\n",
    "if len(dircount) > 1:\n",
    "    dircount=dircount[1:]\n",
    "    dircount[0]=dircount[0]+1  \n",
    "print('Directorios leidos:',len(directories))\n",
    "print(\"Imagenes en cada directorio\", dircount)\n",
    "print('suma Total de imagenes en subdirs:',sum(dircount))"
   ]
  },
  {
   "cell_type": "markdown",
   "metadata": {
    "id": "SuyL8BOS-SY3"
   },
   "source": [
    "# **DATA PREPARATION**"
   ]
  },
  {
   "cell_type": "code",
   "execution_count": 4,
   "metadata": {
    "colab": {
     "base_uri": "https://localhost:8080/"
    },
    "id": "QA-bTToLq3QT",
    "outputId": "de021a67-e77e-454c-a550-e1a1608af59c"
   },
   "outputs": [
    {
     "name": "stdout",
     "output_type": "stream",
     "text": [
      "Cantidad etiquetas creadas:  13536\n"
     ]
    }
   ],
   "source": [
    "labels=[]\n",
    "indice=0\n",
    "for cantidad in dircount:\n",
    "    for i in range(cantidad):\n",
    "        labels.append(indice)   \n",
    "    indice=indice+1\n",
    "print(\"Cantidad etiquetas creadas: \",len(labels))"
   ]
  },
  {
   "cell_type": "code",
   "execution_count": 5,
   "metadata": {
    "colab": {
     "base_uri": "https://localhost:8080/"
    },
    "id": "DUtb3amOq4QY",
    "outputId": "7e88340e-ea06-4ae6-d808-a4a65cd075b6"
   },
   "outputs": [
    {
     "name": "stdout",
     "output_type": "stream",
     "text": [
      "0 Clase_1\n",
      "1 Clase_2\n",
      "2 Clase_3\n",
      "3 Clase_4\n",
      "4 Clase_5\n",
      "5 Clase_6\n"
     ]
    }
   ],
   "source": [
    "posturas=[]\n",
    "indice=0\n",
    "for directorio in directories:\n",
    "    name = directorio.split(os.sep)\n",
    "    print(indice , name[len(name)-1])\n",
    "    posturas.append(name[len(name)-1])\n",
    "    indice=indice+1"
   ]
  },
  {
   "cell_type": "code",
   "execution_count": 6,
   "metadata": {
    "colab": {
     "base_uri": "https://localhost:8080/"
    },
    "id": "3czPZC4gq9Dh",
    "outputId": "be589d68-6858-40a9-f02d-8c94c4c9a692"
   },
   "outputs": [
    {
     "name": "stdout",
     "output_type": "stream",
     "text": [
      "Total number of outputs :  6\n",
      "Output classes :  [0 1 2 3 4 5]\n"
     ]
    }
   ],
   "source": [
    "y = np.array(labels)\n",
    "X = np.array(images) #convierto de lista a numpy\n",
    "\n",
    "#X = tf.convert_to_tensor(X,dtype=tf.float32) # convertir de arrays a tensors\n",
    "#y = tf.convert_to_tensor(X,dtype=tf.float32)\n",
    "\n",
    "# Find the unique numbers from the train labels\n",
    "classes = np.unique(y)\n",
    "nClasses = len(classes)\n",
    "print('Total number of outputs : ', nClasses)\n",
    "print('Output classes : ', classes)"
   ]
  },
  {
   "cell_type": "markdown",
   "metadata": {},
   "source": [
    "# **K-FOLD VALIDATION**"
   ]
  },
  {
   "cell_type": "markdown",
   "metadata": {},
   "source": [
    "**Learning Rate Scheduler**"
   ]
  },
  {
   "cell_type": "code",
   "execution_count": 9,
   "metadata": {},
   "outputs": [],
   "source": [
    "# Change the learning rate while training \n",
    "\n",
    "from tensorflow.keras.callbacks import LearningRateScheduler\n",
    "\n",
    "def scheduler(epoch, lr):\n",
    "    if epoch == 30:\n",
    "        lr = 0.001\n",
    "        return lr \n",
    "    elif epoch == 60:\n",
    "        lr = 0.0001\n",
    "        return lr\n",
    "    else:\n",
    "        return lr"
   ]
  },
  {
   "cell_type": "code",
   "execution_count": 11,
   "metadata": {},
   "outputs": [],
   "source": [
    "from sklearn.model_selection import StratifiedKFold\n",
    "\n",
    "batch_size = 128\n",
    "epochs = 100\n",
    "\n",
    "# Callbacks tensorboard and EarlyStopping  \n",
    "\n",
    "tensorboard = TensorBoard(log_dir=r'C:\\Users\\hpalm\\Desktop\\Programacion\\k_fold_P1Nina_32')\n",
    "custom_early_stopping = EarlyStopping(monitor=\"loss\",patience=3)\n",
    "\n",
    "# ModelCheckpoint to save the best model \n",
    "\n",
    "\n",
    "#checkpoint_filepath = r'C:\\Users\\hpalm\\Desktop\\Programacion\\Proyecto_de_grado\\Jupyter\\Codigo\\Pesos\\k-FOLD_TEST.h5'\n",
    "#check = ModelCheckpoint(filepath=checkpoint_filepath,monitor='val_accuracy',verbose = 1, save_best_only=True)"
   ]
  },
  {
   "cell_type": "code",
   "execution_count": 17,
   "metadata": {},
   "outputs": [],
   "source": [
    "# # Define el modelo\n",
    "# model = Sequential()\n",
    "# model.add(Conv2D(32, kernel_size=(3, 3), strides=(1, 1), padding='same', activation='relu', input_shape=(32, 32, 3)))\n",
    "# model.add(Dropout(0.2))\n",
    "# model.add(Conv2D(8, kernel_size=(3, 3), strides=(2, 2), padding='same', activation='relu'))\n",
    "# model.add(Dropout(0.2))\n",
    "# model.add(Conv2D(32, kernel_size=(3, 3), strides=(2, 2), padding='same', activation='relu'))\n",
    "# model.add(Dropout(0.2))\n",
    "# model.add(Conv2D(56, kernel_size=(3, 3), strides=(2, 2), padding='same', activation='relu'))\n",
    "# model.add(MaxPooling2D(pool_size=(2, 2), strides=2))\n",
    "# model.add(Dropout(0.2))\n",
    "# model.add(Flatten())\n",
    "# model.add(Dense(6))\n",
    "\n",
    "# model.compile(loss=tf.keras.losses.SparseCategoricalCrossentropy(from_logits=True), \n",
    "#               optimizer=tf.keras.optimizers.Adam(learning_rate=0.001), \n",
    "#               metrics=['accuracy'])"
   ]
  },
  {
   "cell_type": "code",
   "execution_count": 13,
   "metadata": {},
   "outputs": [],
   "source": [
    "# Definir los parámetros de la validación k-fold\n",
    "k = 5  # Número de pliegues\n",
    "skf = StratifiedKFold(n_splits=k, shuffle=True)\n",
    "losses =[]\n",
    "accuracies = []\n",
    "val_losses = []\n",
    "val_accuracies = []"
   ]
  },
  {
   "cell_type": "code",
   "execution_count": 14,
   "metadata": {},
   "outputs": [
    {
     "name": "stdout",
     "output_type": "stream",
     "text": [
      "Epoch 1/100\n",
      "85/85 [==============================] - 12s 113ms/step - loss: 1.7393 - accuracy: 0.1999 - val_loss: 1.7432 - val_accuracy: 0.2349\n",
      "Epoch 2/100\n",
      "85/85 [==============================] - 8s 98ms/step - loss: 1.4257 - accuracy: 0.3525 - val_loss: 1.5463 - val_accuracy: 0.3272\n",
      "Epoch 3/100\n",
      "85/85 [==============================] - 8s 94ms/step - loss: 1.3044 - accuracy: 0.4221 - val_loss: 1.4026 - val_accuracy: 0.3213\n",
      "Epoch 4/100\n",
      "85/85 [==============================] - 8s 99ms/step - loss: 1.2170 - accuracy: 0.4682 - val_loss: 1.2773 - val_accuracy: 0.4217\n",
      "Epoch 5/100\n",
      "85/85 [==============================] - 8s 95ms/step - loss: 1.1575 - accuracy: 0.4893 - val_loss: 1.2797 - val_accuracy: 0.4136\n",
      "Epoch 6/100\n",
      "85/85 [==============================] - 8s 97ms/step - loss: 1.1060 - accuracy: 0.5170 - val_loss: 1.1331 - val_accuracy: 0.4956\n",
      "Epoch 7/100\n",
      "85/85 [==============================] - 8s 98ms/step - loss: 1.0612 - accuracy: 0.5396 - val_loss: 1.2269 - val_accuracy: 0.4298\n",
      "Epoch 8/100\n",
      "85/85 [==============================] - 9s 103ms/step - loss: 1.0189 - accuracy: 0.5612 - val_loss: 1.1413 - val_accuracy: 0.4727\n",
      "Epoch 9/100\n",
      "85/85 [==============================] - 9s 105ms/step - loss: 0.9848 - accuracy: 0.5803 - val_loss: 1.0868 - val_accuracy: 0.4838\n",
      "Epoch 10/100\n",
      "85/85 [==============================] - 8s 100ms/step - loss: 0.9599 - accuracy: 0.5972 - val_loss: 1.0807 - val_accuracy: 0.5177\n",
      "Epoch 11/100\n",
      "85/85 [==============================] - 8s 97ms/step - loss: 0.9306 - accuracy: 0.6037 - val_loss: 1.1441 - val_accuracy: 0.4948\n",
      "Epoch 12/100\n",
      "85/85 [==============================] - 8s 96ms/step - loss: 0.9013 - accuracy: 0.6080 - val_loss: 0.9705 - val_accuracy: 0.5820\n",
      "Epoch 13/100\n",
      "85/85 [==============================] - 8s 95ms/step - loss: 0.8624 - accuracy: 0.6355 - val_loss: 0.8993 - val_accuracy: 0.6167\n",
      "Epoch 14/100\n",
      "85/85 [==============================] - 8s 97ms/step - loss: 0.8511 - accuracy: 0.6364 - val_loss: 0.9797 - val_accuracy: 0.5709\n",
      "Epoch 15/100\n",
      "85/85 [==============================] - 8s 98ms/step - loss: 0.8269 - accuracy: 0.6569 - val_loss: 0.8871 - val_accuracy: 0.6322\n",
      "Epoch 16/100\n",
      "85/85 [==============================] - 8s 97ms/step - loss: 0.8064 - accuracy: 0.6670 - val_loss: 0.8542 - val_accuracy: 0.6455\n",
      "Epoch 17/100\n",
      "85/85 [==============================] - 8s 94ms/step - loss: 0.7900 - accuracy: 0.6728 - val_loss: 0.8268 - val_accuracy: 0.6603\n",
      "Epoch 18/100\n",
      "85/85 [==============================] - 8s 95ms/step - loss: 0.7549 - accuracy: 0.6896 - val_loss: 0.7753 - val_accuracy: 0.6994\n",
      "Epoch 19/100\n",
      "85/85 [==============================] - 9s 109ms/step - loss: 0.7560 - accuracy: 0.6900 - val_loss: 0.8191 - val_accuracy: 0.6521\n",
      "Epoch 20/100\n",
      "85/85 [==============================] - 10s 114ms/step - loss: 0.7334 - accuracy: 0.6980 - val_loss: 0.7288 - val_accuracy: 0.7297\n",
      "Epoch 21/100\n",
      "85/85 [==============================] - 8s 97ms/step - loss: 0.7125 - accuracy: 0.7115 - val_loss: 0.7252 - val_accuracy: 0.7127\n",
      "Epoch 22/100\n",
      "85/85 [==============================] - 9s 104ms/step - loss: 0.6922 - accuracy: 0.7173 - val_loss: 0.7205 - val_accuracy: 0.7142\n",
      "Epoch 23/100\n",
      "85/85 [==============================] - 8s 95ms/step - loss: 0.6754 - accuracy: 0.7244 - val_loss: 0.7241 - val_accuracy: 0.7016\n",
      "Epoch 24/100\n",
      "85/85 [==============================] - 8s 94ms/step - loss: 0.6701 - accuracy: 0.7234 - val_loss: 0.6772 - val_accuracy: 0.7459\n",
      "Epoch 25/100\n",
      "85/85 [==============================] - 8s 95ms/step - loss: 0.6564 - accuracy: 0.7329 - val_loss: 0.6262 - val_accuracy: 0.7674\n",
      "Epoch 26/100\n",
      "85/85 [==============================] - 8s 95ms/step - loss: 0.6312 - accuracy: 0.7447 - val_loss: 0.6437 - val_accuracy: 0.7563\n",
      "Epoch 27/100\n",
      "85/85 [==============================] - 8s 95ms/step - loss: 0.6202 - accuracy: 0.7491 - val_loss: 0.6007 - val_accuracy: 0.7674\n",
      "Epoch 28/100\n",
      "85/85 [==============================] - 8s 95ms/step - loss: 0.6142 - accuracy: 0.7532 - val_loss: 0.6204 - val_accuracy: 0.7629\n",
      "Epoch 29/100\n",
      "85/85 [==============================] - 8s 94ms/step - loss: 0.6097 - accuracy: 0.7597 - val_loss: 0.6227 - val_accuracy: 0.7821\n",
      "Epoch 30/100\n",
      "85/85 [==============================] - 8s 94ms/step - loss: 0.5934 - accuracy: 0.7642 - val_loss: 0.5928 - val_accuracy: 0.7851\n",
      "Epoch 31/100\n",
      "85/85 [==============================] - 8s 94ms/step - loss: 0.5771 - accuracy: 0.7725 - val_loss: 0.5946 - val_accuracy: 0.7659\n",
      "Epoch 32/100\n",
      "85/85 [==============================] - 8s 95ms/step - loss: 0.5723 - accuracy: 0.7693 - val_loss: 0.6062 - val_accuracy: 0.7681\n",
      "Epoch 33/100\n",
      "85/85 [==============================] - 8s 94ms/step - loss: 0.5631 - accuracy: 0.7763 - val_loss: 0.5959 - val_accuracy: 0.7637\n",
      "Epoch 34/100\n",
      "85/85 [==============================] - 8s 95ms/step - loss: 0.5425 - accuracy: 0.7854 - val_loss: 0.5655 - val_accuracy: 0.7806\n",
      "Epoch 35/100\n",
      "85/85 [==============================] - 8s 95ms/step - loss: 0.5512 - accuracy: 0.7784 - val_loss: 0.5240 - val_accuracy: 0.8065\n",
      "Epoch 36/100\n",
      "85/85 [==============================] - 8s 94ms/step - loss: 0.5428 - accuracy: 0.7857 - val_loss: 0.5384 - val_accuracy: 0.8013\n",
      "Epoch 37/100\n",
      "85/85 [==============================] - 8s 96ms/step - loss: 0.5338 - accuracy: 0.7895 - val_loss: 0.5100 - val_accuracy: 0.8183\n",
      "Epoch 38/100\n",
      "85/85 [==============================] - 8s 95ms/step - loss: 0.5159 - accuracy: 0.7966 - val_loss: 0.4977 - val_accuracy: 0.8117\n",
      "Epoch 39/100\n",
      "85/85 [==============================] - 8s 95ms/step - loss: 0.5065 - accuracy: 0.7994 - val_loss: 0.4489 - val_accuracy: 0.8471\n",
      "Epoch 40/100\n",
      "85/85 [==============================] - 8s 96ms/step - loss: 0.5162 - accuracy: 0.7987 - val_loss: 0.5047 - val_accuracy: 0.8294\n",
      "Epoch 41/100\n",
      "85/85 [==============================] - 8s 96ms/step - loss: 0.4970 - accuracy: 0.8080 - val_loss: 0.4735 - val_accuracy: 0.8287\n",
      "Epoch 42/100\n",
      "85/85 [==============================] - 8s 94ms/step - loss: 0.4950 - accuracy: 0.8075 - val_loss: 0.4445 - val_accuracy: 0.8390\n",
      "Epoch 43/100\n",
      "85/85 [==============================] - 8s 95ms/step - loss: 0.4759 - accuracy: 0.8110 - val_loss: 0.4690 - val_accuracy: 0.8375\n",
      "Epoch 44/100\n",
      "85/85 [==============================] - 8s 95ms/step - loss: 0.4732 - accuracy: 0.8142 - val_loss: 0.4607 - val_accuracy: 0.8412\n",
      "Epoch 45/100\n",
      "85/85 [==============================] - 8s 95ms/step - loss: 0.4915 - accuracy: 0.8147 - val_loss: 0.5187 - val_accuracy: 0.8191\n",
      "Epoch 46/100\n",
      "85/85 [==============================] - 8s 95ms/step - loss: 0.4792 - accuracy: 0.8144 - val_loss: 0.4518 - val_accuracy: 0.8471\n",
      "Epoch 47/100\n",
      "85/85 [==============================] - 8s 95ms/step - loss: 0.4566 - accuracy: 0.8203 - val_loss: 0.4447 - val_accuracy: 0.8471\n",
      "Epoch 48/100\n",
      "85/85 [==============================] - 8s 96ms/step - loss: 0.4535 - accuracy: 0.8210 - val_loss: 0.4464 - val_accuracy: 0.8456\n",
      "Epoch 49/100\n",
      "85/85 [==============================] - 8s 98ms/step - loss: 0.4496 - accuracy: 0.8265 - val_loss: 0.4413 - val_accuracy: 0.8486\n",
      "Epoch 50/100\n",
      "85/85 [==============================] - 8s 94ms/step - loss: 0.4419 - accuracy: 0.8306 - val_loss: 0.3978 - val_accuracy: 0.8648\n",
      "Epoch 51/100\n",
      "85/85 [==============================] - 8s 94ms/step - loss: 0.4448 - accuracy: 0.8235 - val_loss: 0.3991 - val_accuracy: 0.8700\n",
      "Epoch 52/100\n",
      "85/85 [==============================] - 8s 95ms/step - loss: 0.4303 - accuracy: 0.8348 - val_loss: 0.4505 - val_accuracy: 0.8383\n",
      "Epoch 53/100\n",
      "85/85 [==============================] - 8s 94ms/step - loss: 0.4324 - accuracy: 0.8335 - val_loss: 0.4083 - val_accuracy: 0.8722\n",
      "Epoch 54/100\n",
      "85/85 [==============================] - 8s 94ms/step - loss: 0.4222 - accuracy: 0.8373 - val_loss: 0.4004 - val_accuracy: 0.8604\n",
      "Epoch 55/100\n",
      "85/85 [==============================] - 8s 95ms/step - loss: 0.4366 - accuracy: 0.8314 - val_loss: 0.3616 - val_accuracy: 0.8870\n",
      "Epoch 56/100\n",
      "85/85 [==============================] - 8s 94ms/step - loss: 0.4072 - accuracy: 0.8443 - val_loss: 0.3860 - val_accuracy: 0.8656\n",
      "Epoch 57/100\n",
      "85/85 [==============================] - 8s 94ms/step - loss: 0.3939 - accuracy: 0.8495 - val_loss: 0.3593 - val_accuracy: 0.8877\n",
      "Epoch 58/100\n",
      "85/85 [==============================] - 8s 94ms/step - loss: 0.4088 - accuracy: 0.8437 - val_loss: 0.3965 - val_accuracy: 0.8589\n",
      "Epoch 59/100\n",
      "85/85 [==============================] - 8s 94ms/step - loss: 0.3924 - accuracy: 0.8540 - val_loss: 0.3696 - val_accuracy: 0.8774\n",
      "Epoch 60/100\n",
      "85/85 [==============================] - 8s 94ms/step - loss: 0.3896 - accuracy: 0.8523 - val_loss: 0.3638 - val_accuracy: 0.8833\n",
      "Epoch 61/100\n",
      "85/85 [==============================] - 8s 94ms/step - loss: 0.4018 - accuracy: 0.8461 - val_loss: 0.3461 - val_accuracy: 0.8870\n",
      "Epoch 62/100\n",
      "85/85 [==============================] - 8s 94ms/step - loss: 0.3970 - accuracy: 0.8454 - val_loss: 0.3451 - val_accuracy: 0.8863\n",
      "Epoch 63/100\n",
      "85/85 [==============================] - 8s 94ms/step - loss: 0.3805 - accuracy: 0.8519 - val_loss: 0.3491 - val_accuracy: 0.8700\n",
      "Epoch 64/100\n",
      "85/85 [==============================] - 8s 95ms/step - loss: 0.3946 - accuracy: 0.8498 - val_loss: 0.3589 - val_accuracy: 0.8796\n",
      "Epoch 65/100\n",
      "85/85 [==============================] - 8s 94ms/step - loss: 0.3850 - accuracy: 0.8538 - val_loss: 0.3670 - val_accuracy: 0.8789\n",
      "Epoch 66/100\n",
      "85/85 [==============================] - 8s 95ms/step - loss: 0.3737 - accuracy: 0.8642 - val_loss: 0.3242 - val_accuracy: 0.8951\n",
      "Epoch 67/100\n",
      "85/85 [==============================] - 8s 94ms/step - loss: 0.3692 - accuracy: 0.8640 - val_loss: 0.3595 - val_accuracy: 0.8781\n",
      "Epoch 68/100\n",
      "85/85 [==============================] - 8s 94ms/step - loss: 0.3734 - accuracy: 0.8577 - val_loss: 0.3280 - val_accuracy: 0.8892\n",
      "Epoch 69/100\n",
      "85/85 [==============================] - 8s 95ms/step - loss: 0.3759 - accuracy: 0.8571 - val_loss: 0.3256 - val_accuracy: 0.8936\n",
      "Epoch 70/100\n",
      "85/85 [==============================] - 8s 95ms/step - loss: 0.3648 - accuracy: 0.8637 - val_loss: 0.3248 - val_accuracy: 0.9032\n",
      "Epoch 71/100\n",
      "85/85 [==============================] - 8s 95ms/step - loss: 0.3633 - accuracy: 0.8637 - val_loss: 0.3190 - val_accuracy: 0.8914\n",
      "Epoch 72/100\n",
      "85/85 [==============================] - 8s 95ms/step - loss: 0.3572 - accuracy: 0.8662 - val_loss: 0.3159 - val_accuracy: 0.9003\n",
      "Epoch 73/100\n",
      "85/85 [==============================] - 8s 95ms/step - loss: 0.3502 - accuracy: 0.8663 - val_loss: 0.3328 - val_accuracy: 0.8914\n",
      "Epoch 74/100\n",
      "85/85 [==============================] - 8s 95ms/step - loss: 0.3528 - accuracy: 0.8653 - val_loss: 0.3009 - val_accuracy: 0.9047\n",
      "Epoch 75/100\n",
      "85/85 [==============================] - 8s 94ms/step - loss: 0.3658 - accuracy: 0.8630 - val_loss: 0.3490 - val_accuracy: 0.8789\n",
      "Epoch 76/100\n",
      "85/85 [==============================] - 8s 94ms/step - loss: 0.3510 - accuracy: 0.8715 - val_loss: 0.3009 - val_accuracy: 0.9040\n",
      "43/43 [==============================] - 0s 5ms/step - loss: 0.1344 - accuracy: 0.9690\n",
      "Loss: 0.1343805193901062, Accuracy: 0.9689807891845703\n",
      "Epoch 1/100\n",
      "85/85 [==============================] - 9s 102ms/step - loss: 1.6813 - accuracy: 0.2285 - val_loss: 1.6604 - val_accuracy: 0.3296\n",
      "Epoch 2/100\n",
      "85/85 [==============================] - 9s 107ms/step - loss: 1.3861 - accuracy: 0.3821 - val_loss: 1.5158 - val_accuracy: 0.2735\n",
      "Epoch 3/100\n",
      "85/85 [==============================] - 9s 100ms/step - loss: 1.2619 - accuracy: 0.4358 - val_loss: 1.3276 - val_accuracy: 0.3865\n",
      "Epoch 4/100\n",
      "85/85 [==============================] - 9s 108ms/step - loss: 1.1876 - accuracy: 0.4812 - val_loss: 1.2888 - val_accuracy: 0.4043\n",
      "Epoch 5/100\n",
      "85/85 [==============================] - 8s 96ms/step - loss: 1.1454 - accuracy: 0.5076 - val_loss: 1.3324 - val_accuracy: 0.4021\n",
      "Epoch 6/100\n",
      "85/85 [==============================] - 8s 99ms/step - loss: 1.1158 - accuracy: 0.5169 - val_loss: 1.2408 - val_accuracy: 0.4331\n",
      "Epoch 7/100\n",
      "85/85 [==============================] - 9s 106ms/step - loss: 1.0586 - accuracy: 0.5431 - val_loss: 1.1810 - val_accuracy: 0.4693\n",
      "Epoch 8/100\n",
      "85/85 [==============================] - 10s 113ms/step - loss: 1.0275 - accuracy: 0.5574 - val_loss: 1.2487 - val_accuracy: 0.4154\n",
      "Epoch 9/100\n",
      "85/85 [==============================] - 13s 157ms/step - loss: 0.9915 - accuracy: 0.5745 - val_loss: 1.1331 - val_accuracy: 0.4678\n",
      "Epoch 10/100\n",
      "85/85 [==============================] - 10s 118ms/step - loss: 0.9667 - accuracy: 0.5859 - val_loss: 1.1162 - val_accuracy: 0.4989\n",
      "Epoch 11/100\n",
      "85/85 [==============================] - 10s 114ms/step - loss: 0.9492 - accuracy: 0.5941 - val_loss: 1.0996 - val_accuracy: 0.4885\n",
      "Epoch 12/100\n",
      "85/85 [==============================] - 10s 113ms/step - loss: 0.9175 - accuracy: 0.6108 - val_loss: 0.9826 - val_accuracy: 0.5565\n",
      "Epoch 13/100\n",
      "85/85 [==============================] - 9s 104ms/step - loss: 0.8900 - accuracy: 0.6275 - val_loss: 0.9399 - val_accuracy: 0.5861\n",
      "Epoch 14/100\n",
      "85/85 [==============================] - 9s 110ms/step - loss: 0.8729 - accuracy: 0.6353 - val_loss: 0.9995 - val_accuracy: 0.5484\n",
      "Epoch 15/100\n",
      "85/85 [==============================] - 10s 120ms/step - loss: 0.8487 - accuracy: 0.6439 - val_loss: 0.9232 - val_accuracy: 0.6001\n",
      "Epoch 16/100\n",
      "85/85 [==============================] - 9s 102ms/step - loss: 0.8281 - accuracy: 0.6566 - val_loss: 0.9145 - val_accuracy: 0.5957\n",
      "Epoch 17/100\n",
      "85/85 [==============================] - 9s 101ms/step - loss: 0.8183 - accuracy: 0.6669 - val_loss: 0.9176 - val_accuracy: 0.6001\n",
      "Epoch 18/100\n",
      "85/85 [==============================] - 9s 107ms/step - loss: 0.7945 - accuracy: 0.6761 - val_loss: 0.7942 - val_accuracy: 0.6711\n",
      "Epoch 19/100\n",
      "85/85 [==============================] - 9s 107ms/step - loss: 0.7688 - accuracy: 0.6894 - val_loss: 0.8684 - val_accuracy: 0.6253\n",
      "Epoch 20/100\n",
      "85/85 [==============================] - 9s 104ms/step - loss: 0.7599 - accuracy: 0.6918 - val_loss: 0.8559 - val_accuracy: 0.6445\n",
      "Epoch 21/100\n",
      "85/85 [==============================] - 9s 104ms/step - loss: 0.7426 - accuracy: 0.7033 - val_loss: 0.7523 - val_accuracy: 0.6962\n",
      "Epoch 22/100\n",
      "85/85 [==============================] - 10s 118ms/step - loss: 0.7274 - accuracy: 0.7033 - val_loss: 0.7838 - val_accuracy: 0.6770\n",
      "Epoch 23/100\n",
      "85/85 [==============================] - 9s 103ms/step - loss: 0.7087 - accuracy: 0.7158 - val_loss: 0.7649 - val_accuracy: 0.6903\n",
      "Epoch 24/100\n",
      "85/85 [==============================] - 9s 104ms/step - loss: 0.7028 - accuracy: 0.7185 - val_loss: 0.7345 - val_accuracy: 0.7058\n",
      "Epoch 25/100\n",
      "85/85 [==============================] - 9s 111ms/step - loss: 0.6687 - accuracy: 0.7324 - val_loss: 0.7427 - val_accuracy: 0.6903\n",
      "Epoch 26/100\n",
      "85/85 [==============================] - 9s 101ms/step - loss: 0.6688 - accuracy: 0.7314 - val_loss: 0.7227 - val_accuracy: 0.7140\n",
      "Epoch 27/100\n",
      "85/85 [==============================] - 9s 108ms/step - loss: 0.6554 - accuracy: 0.7396 - val_loss: 0.6746 - val_accuracy: 0.7310\n",
      "Epoch 28/100\n",
      "85/85 [==============================] - 9s 110ms/step - loss: 0.6398 - accuracy: 0.7446 - val_loss: 0.6787 - val_accuracy: 0.7339\n",
      "Epoch 29/100\n",
      "85/85 [==============================] - 9s 108ms/step - loss: 0.6380 - accuracy: 0.7453 - val_loss: 0.6800 - val_accuracy: 0.7280\n",
      "Epoch 30/100\n",
      "85/85 [==============================] - 8s 99ms/step - loss: 0.6234 - accuracy: 0.7527 - val_loss: 0.6552 - val_accuracy: 0.7494\n",
      "Epoch 31/100\n",
      "85/85 [==============================] - 8s 97ms/step - loss: 0.6085 - accuracy: 0.7619 - val_loss: 0.6071 - val_accuracy: 0.7746\n",
      "Epoch 32/100\n",
      "85/85 [==============================] - 10s 112ms/step - loss: 0.6029 - accuracy: 0.7627 - val_loss: 0.6447 - val_accuracy: 0.7576\n",
      "Epoch 33/100\n",
      "85/85 [==============================] - 9s 106ms/step - loss: 0.5945 - accuracy: 0.7626 - val_loss: 0.6203 - val_accuracy: 0.7709\n",
      "Epoch 34/100\n",
      "85/85 [==============================] - 9s 111ms/step - loss: 0.5830 - accuracy: 0.7743 - val_loss: 0.6120 - val_accuracy: 0.7716\n",
      "Epoch 35/100\n",
      "85/85 [==============================] - 9s 110ms/step - loss: 0.5721 - accuracy: 0.7740 - val_loss: 0.5404 - val_accuracy: 0.8056\n",
      "Epoch 36/100\n",
      "85/85 [==============================] - 9s 108ms/step - loss: 0.5595 - accuracy: 0.7835 - val_loss: 0.5293 - val_accuracy: 0.8137\n",
      "Epoch 37/100\n",
      "85/85 [==============================] - 9s 102ms/step - loss: 0.5667 - accuracy: 0.7826 - val_loss: 0.6056 - val_accuracy: 0.7679\n",
      "Epoch 38/100\n",
      "85/85 [==============================] - 9s 110ms/step - loss: 0.5425 - accuracy: 0.7886 - val_loss: 0.5876 - val_accuracy: 0.7746\n",
      "Epoch 39/100\n",
      "85/85 [==============================] - 9s 104ms/step - loss: 0.5353 - accuracy: 0.7939 - val_loss: 0.5414 - val_accuracy: 0.7916\n",
      "Epoch 40/100\n",
      "85/85 [==============================] - 9s 104ms/step - loss: 0.5240 - accuracy: 0.7915 - val_loss: 0.5533 - val_accuracy: 0.7953\n",
      "Epoch 41/100\n",
      "85/85 [==============================] - 9s 101ms/step - loss: 0.5215 - accuracy: 0.7984 - val_loss: 0.5020 - val_accuracy: 0.8234\n",
      "Epoch 42/100\n",
      "85/85 [==============================] - 9s 106ms/step - loss: 0.5199 - accuracy: 0.7963 - val_loss: 0.5266 - val_accuracy: 0.7990\n",
      "Epoch 43/100\n",
      "85/85 [==============================] - 9s 108ms/step - loss: 0.5088 - accuracy: 0.8053 - val_loss: 0.5340 - val_accuracy: 0.8123\n",
      "Epoch 44/100\n",
      "85/85 [==============================] - 9s 102ms/step - loss: 0.5036 - accuracy: 0.8057 - val_loss: 0.4835 - val_accuracy: 0.8374\n",
      "Epoch 45/100\n",
      "85/85 [==============================] - 10s 115ms/step - loss: 0.4971 - accuracy: 0.8115 - val_loss: 0.4831 - val_accuracy: 0.8315\n",
      "Epoch 46/100\n",
      "85/85 [==============================] - 9s 111ms/step - loss: 0.4881 - accuracy: 0.8134 - val_loss: 0.4512 - val_accuracy: 0.8470\n",
      "Epoch 47/100\n",
      "85/85 [==============================] - 9s 103ms/step - loss: 0.4797 - accuracy: 0.8148 - val_loss: 0.4484 - val_accuracy: 0.8293\n",
      "Epoch 48/100\n",
      "85/85 [==============================] - 9s 111ms/step - loss: 0.4783 - accuracy: 0.8172 - val_loss: 0.5371 - val_accuracy: 0.8019\n",
      "Epoch 49/100\n",
      "85/85 [==============================] - 10s 115ms/step - loss: 0.4790 - accuracy: 0.8176 - val_loss: 0.4953 - val_accuracy: 0.8160\n",
      "Epoch 50/100\n",
      "85/85 [==============================] - 9s 106ms/step - loss: 0.4800 - accuracy: 0.8161 - val_loss: 0.4519 - val_accuracy: 0.8433\n",
      "Epoch 51/100\n",
      "85/85 [==============================] - 10s 115ms/step - loss: 0.4728 - accuracy: 0.8172 - val_loss: 0.4584 - val_accuracy: 0.8418\n",
      "Epoch 52/100\n",
      "85/85 [==============================] - 10s 113ms/step - loss: 0.4603 - accuracy: 0.8203 - val_loss: 0.4368 - val_accuracy: 0.8477\n",
      "Epoch 53/100\n",
      "85/85 [==============================] - 9s 105ms/step - loss: 0.4651 - accuracy: 0.8230 - val_loss: 0.4151 - val_accuracy: 0.8647\n",
      "Epoch 54/100\n",
      "85/85 [==============================] - 9s 109ms/step - loss: 0.4382 - accuracy: 0.8287 - val_loss: 0.4355 - val_accuracy: 0.8448\n",
      "Epoch 55/100\n",
      "85/85 [==============================] - 9s 103ms/step - loss: 0.4425 - accuracy: 0.8317 - val_loss: 0.4208 - val_accuracy: 0.8514\n",
      "Epoch 56/100\n",
      "85/85 [==============================] - 8s 100ms/step - loss: 0.4578 - accuracy: 0.8221 - val_loss: 0.4157 - val_accuracy: 0.8633\n",
      "Epoch 57/100\n",
      "85/85 [==============================] - 9s 101ms/step - loss: 0.4394 - accuracy: 0.8362 - val_loss: 0.3983 - val_accuracy: 0.8692\n",
      "43/43 [==============================] - 0s 5ms/step - loss: 0.1741 - accuracy: 0.9535\n",
      "Loss: 0.17414410412311554, Accuracy: 0.9534711837768555\n",
      "Epoch 1/100\n",
      "85/85 [==============================] - 10s 115ms/step - loss: 1.6726 - accuracy: 0.2459 - val_loss: 1.6737 - val_accuracy: 0.1086\n",
      "Epoch 2/100\n",
      "85/85 [==============================] - 9s 106ms/step - loss: 1.3818 - accuracy: 0.3758 - val_loss: 1.4398 - val_accuracy: 0.4257\n",
      "Epoch 3/100\n",
      "85/85 [==============================] - 9s 102ms/step - loss: 1.2639 - accuracy: 0.4342 - val_loss: 1.4118 - val_accuracy: 0.3326\n",
      "Epoch 4/100\n",
      "85/85 [==============================] - 9s 102ms/step - loss: 1.1982 - accuracy: 0.4664 - val_loss: 1.3779 - val_accuracy: 0.3688\n",
      "Epoch 5/100\n",
      "85/85 [==============================] - 8s 98ms/step - loss: 1.1483 - accuracy: 0.4851 - val_loss: 1.2837 - val_accuracy: 0.4169\n",
      "Epoch 6/100\n",
      "85/85 [==============================] - 9s 102ms/step - loss: 1.1243 - accuracy: 0.4982 - val_loss: 1.3590 - val_accuracy: 0.3843\n",
      "Epoch 7/100\n",
      "85/85 [==============================] - 9s 107ms/step - loss: 1.0769 - accuracy: 0.5231 - val_loss: 1.1762 - val_accuracy: 0.4523\n",
      "Epoch 8/100\n",
      "85/85 [==============================] - 9s 104ms/step - loss: 1.0496 - accuracy: 0.5386 - val_loss: 1.1916 - val_accuracy: 0.4701\n",
      "Epoch 9/100\n",
      "85/85 [==============================] - 9s 104ms/step - loss: 1.0210 - accuracy: 0.5505 - val_loss: 1.2151 - val_accuracy: 0.4383\n",
      "Epoch 10/100\n",
      "85/85 [==============================] - 9s 108ms/step - loss: 0.9937 - accuracy: 0.5699 - val_loss: 1.1546 - val_accuracy: 0.4863\n",
      "Epoch 11/100\n",
      "85/85 [==============================] - 9s 110ms/step - loss: 0.9633 - accuracy: 0.5824 - val_loss: 1.0520 - val_accuracy: 0.5366\n",
      "Epoch 12/100\n",
      "85/85 [==============================] - 9s 103ms/step - loss: 0.9555 - accuracy: 0.5946 - val_loss: 1.0408 - val_accuracy: 0.5462\n",
      "Epoch 13/100\n",
      "85/85 [==============================] - 8s 100ms/step - loss: 0.9335 - accuracy: 0.5999 - val_loss: 0.9943 - val_accuracy: 0.5898\n",
      "Epoch 14/100\n",
      "85/85 [==============================] - 9s 110ms/step - loss: 0.9093 - accuracy: 0.6112 - val_loss: 1.0204 - val_accuracy: 0.5565\n",
      "Epoch 15/100\n",
      "85/85 [==============================] - 9s 110ms/step - loss: 0.9041 - accuracy: 0.6168 - val_loss: 1.0298 - val_accuracy: 0.5536\n",
      "Epoch 16/100\n",
      "85/85 [==============================] - 9s 101ms/step - loss: 0.8745 - accuracy: 0.6286 - val_loss: 0.9099 - val_accuracy: 0.6053\n",
      "Epoch 17/100\n",
      "85/85 [==============================] - 9s 109ms/step - loss: 0.8563 - accuracy: 0.6311 - val_loss: 0.9848 - val_accuracy: 0.5440\n",
      "Epoch 18/100\n",
      "85/85 [==============================] - 9s 107ms/step - loss: 0.8504 - accuracy: 0.6424 - val_loss: 0.9515 - val_accuracy: 0.6024\n",
      "Epoch 19/100\n",
      "85/85 [==============================] - 10s 113ms/step - loss: 0.8306 - accuracy: 0.6498 - val_loss: 0.9475 - val_accuracy: 0.5661\n",
      "Epoch 20/100\n",
      "85/85 [==============================] - 10s 119ms/step - loss: 0.8161 - accuracy: 0.6581 - val_loss: 0.8943 - val_accuracy: 0.6105\n",
      "Epoch 21/100\n",
      "85/85 [==============================] - 10s 114ms/step - loss: 0.8051 - accuracy: 0.6580 - val_loss: 0.9359 - val_accuracy: 0.5898\n",
      "Epoch 22/100\n",
      "85/85 [==============================] - 9s 105ms/step - loss: 0.7948 - accuracy: 0.6653 - val_loss: 0.9943 - val_accuracy: 0.5684\n",
      "Epoch 23/100\n",
      "85/85 [==============================] - 9s 106ms/step - loss: 0.7931 - accuracy: 0.6661 - val_loss: 0.9118 - val_accuracy: 0.6105\n",
      "Epoch 24/100\n",
      "85/85 [==============================] - 10s 114ms/step - loss: 0.7719 - accuracy: 0.6758 - val_loss: 0.8563 - val_accuracy: 0.6482\n",
      "Epoch 25/100\n",
      "85/85 [==============================] - 9s 110ms/step - loss: 0.7472 - accuracy: 0.6882 - val_loss: 0.7908 - val_accuracy: 0.6814\n",
      "Epoch 26/100\n",
      "85/85 [==============================] - 9s 105ms/step - loss: 0.7503 - accuracy: 0.6860 - val_loss: 0.8106 - val_accuracy: 0.6644\n",
      "Epoch 27/100\n",
      "85/85 [==============================] - 10s 115ms/step - loss: 0.7373 - accuracy: 0.6969 - val_loss: 0.7609 - val_accuracy: 0.7007\n",
      "Epoch 28/100\n",
      "85/85 [==============================] - 10s 113ms/step - loss: 0.7143 - accuracy: 0.7067 - val_loss: 0.8088 - val_accuracy: 0.6785\n",
      "Epoch 29/100\n",
      "85/85 [==============================] - 9s 107ms/step - loss: 0.6995 - accuracy: 0.7119 - val_loss: 0.7285 - val_accuracy: 0.7132\n",
      "Epoch 30/100\n",
      "85/85 [==============================] - 9s 110ms/step - loss: 0.6955 - accuracy: 0.7159 - val_loss: 0.7722 - val_accuracy: 0.6874\n",
      "Epoch 31/100\n",
      "85/85 [==============================] - 10s 116ms/step - loss: 0.6762 - accuracy: 0.7214 - val_loss: 0.7776 - val_accuracy: 0.6955\n",
      "Epoch 32/100\n",
      "85/85 [==============================] - 9s 109ms/step - loss: 0.6678 - accuracy: 0.7318 - val_loss: 0.6622 - val_accuracy: 0.7524\n",
      "Epoch 33/100\n",
      "85/85 [==============================] - 10s 113ms/step - loss: 0.6471 - accuracy: 0.7371 - val_loss: 0.6921 - val_accuracy: 0.7369\n",
      "Epoch 34/100\n",
      "85/85 [==============================] - 10s 117ms/step - loss: 0.6443 - accuracy: 0.7387 - val_loss: 0.6166 - val_accuracy: 0.7761\n",
      "Epoch 35/100\n",
      "85/85 [==============================] - 10s 121ms/step - loss: 0.6220 - accuracy: 0.7478 - val_loss: 0.6279 - val_accuracy: 0.7761\n",
      "Epoch 36/100\n",
      "85/85 [==============================] - 10s 118ms/step - loss: 0.6183 - accuracy: 0.7494 - val_loss: 0.6551 - val_accuracy: 0.7576\n",
      "Epoch 37/100\n",
      "85/85 [==============================] - 10s 114ms/step - loss: 0.6069 - accuracy: 0.7600 - val_loss: 0.6355 - val_accuracy: 0.7568\n",
      "Epoch 38/100\n",
      "85/85 [==============================] - 10s 116ms/step - loss: 0.6073 - accuracy: 0.7590 - val_loss: 0.5878 - val_accuracy: 0.7938\n",
      "Epoch 39/100\n",
      "85/85 [==============================] - 9s 107ms/step - loss: 0.5910 - accuracy: 0.7679 - val_loss: 0.5779 - val_accuracy: 0.7916\n",
      "Epoch 40/100\n",
      "85/85 [==============================] - 9s 103ms/step - loss: 0.5775 - accuracy: 0.7679 - val_loss: 0.5989 - val_accuracy: 0.7812\n",
      "Epoch 41/100\n",
      "85/85 [==============================] - 9s 111ms/step - loss: 0.5692 - accuracy: 0.7745 - val_loss: 0.5304 - val_accuracy: 0.8130\n",
      "Epoch 42/100\n",
      "85/85 [==============================] - 9s 104ms/step - loss: 0.5561 - accuracy: 0.7819 - val_loss: 0.5457 - val_accuracy: 0.8115\n",
      "Epoch 43/100\n",
      "85/85 [==============================] - 9s 108ms/step - loss: 0.5532 - accuracy: 0.7823 - val_loss: 0.6176 - val_accuracy: 0.7642\n",
      "Epoch 44/100\n",
      "85/85 [==============================] - 9s 105ms/step - loss: 0.5505 - accuracy: 0.7758 - val_loss: 0.5316 - val_accuracy: 0.8093\n",
      "Epoch 45/100\n",
      "85/85 [==============================] - 9s 104ms/step - loss: 0.5381 - accuracy: 0.7873 - val_loss: 0.4851 - val_accuracy: 0.8307\n",
      "Epoch 46/100\n",
      "85/85 [==============================] - 9s 107ms/step - loss: 0.5358 - accuracy: 0.7907 - val_loss: 0.5171 - val_accuracy: 0.8137\n",
      "Epoch 47/100\n",
      "85/85 [==============================] - 10s 119ms/step - loss: 0.5240 - accuracy: 0.7966 - val_loss: 0.4909 - val_accuracy: 0.8352\n",
      "Epoch 48/100\n",
      "85/85 [==============================] - 9s 107ms/step - loss: 0.5180 - accuracy: 0.7903 - val_loss: 0.4895 - val_accuracy: 0.8241\n",
      "Epoch 49/100\n",
      "85/85 [==============================] - 9s 105ms/step - loss: 0.5165 - accuracy: 0.7955 - val_loss: 0.4701 - val_accuracy: 0.8396\n",
      "Epoch 50/100\n",
      "85/85 [==============================] - 9s 105ms/step - loss: 0.5105 - accuracy: 0.7965 - val_loss: 0.4567 - val_accuracy: 0.8463\n",
      "Epoch 51/100\n",
      "85/85 [==============================] - 9s 102ms/step - loss: 0.5019 - accuracy: 0.8041 - val_loss: 0.4563 - val_accuracy: 0.8485\n",
      "Epoch 52/100\n",
      "85/85 [==============================] - 8s 99ms/step - loss: 0.5003 - accuracy: 0.8033 - val_loss: 0.4419 - val_accuracy: 0.8455\n",
      "Epoch 53/100\n",
      "85/85 [==============================] - 9s 103ms/step - loss: 0.4830 - accuracy: 0.8117 - val_loss: 0.4134 - val_accuracy: 0.8707\n",
      "Epoch 54/100\n",
      "85/85 [==============================] - 9s 101ms/step - loss: 0.4842 - accuracy: 0.8105 - val_loss: 0.5067 - val_accuracy: 0.8263\n",
      "Epoch 55/100\n",
      "85/85 [==============================] - 9s 104ms/step - loss: 0.4771 - accuracy: 0.8169 - val_loss: 0.4414 - val_accuracy: 0.8507\n",
      "Epoch 56/100\n",
      "85/85 [==============================] - 9s 102ms/step - loss: 0.4763 - accuracy: 0.8159 - val_loss: 0.3975 - val_accuracy: 0.8677\n",
      "Epoch 57/100\n",
      "85/85 [==============================] - 9s 101ms/step - loss: 0.4761 - accuracy: 0.8157 - val_loss: 0.4061 - val_accuracy: 0.8692\n",
      "Epoch 58/100\n",
      "85/85 [==============================] - 9s 109ms/step - loss: 0.4678 - accuracy: 0.8198 - val_loss: 0.4201 - val_accuracy: 0.8640\n",
      "Epoch 59/100\n",
      "85/85 [==============================] - 10s 115ms/step - loss: 0.4596 - accuracy: 0.8197 - val_loss: 0.4219 - val_accuracy: 0.8581\n",
      "Epoch 60/100\n",
      "85/85 [==============================] - 10s 113ms/step - loss: 0.4519 - accuracy: 0.8273 - val_loss: 0.4038 - val_accuracy: 0.8662\n",
      "Epoch 61/100\n",
      "85/85 [==============================] - 9s 111ms/step - loss: 0.4438 - accuracy: 0.8275 - val_loss: 0.4100 - val_accuracy: 0.8692\n",
      "Epoch 62/100\n",
      "85/85 [==============================] - 9s 107ms/step - loss: 0.4407 - accuracy: 0.8300 - val_loss: 0.3814 - val_accuracy: 0.8729\n",
      "Epoch 63/100\n",
      "85/85 [==============================] - 9s 105ms/step - loss: 0.4304 - accuracy: 0.8327 - val_loss: 0.4239 - val_accuracy: 0.8544\n",
      "Epoch 64/100\n",
      "85/85 [==============================] - 9s 103ms/step - loss: 0.4397 - accuracy: 0.8308 - val_loss: 0.3867 - val_accuracy: 0.8788\n",
      "Epoch 65/100\n",
      "85/85 [==============================] - 9s 105ms/step - loss: 0.4303 - accuracy: 0.8361 - val_loss: 0.3520 - val_accuracy: 0.8825\n",
      "Epoch 66/100\n",
      "85/85 [==============================] - 9s 111ms/step - loss: 0.4296 - accuracy: 0.8353 - val_loss: 0.3417 - val_accuracy: 0.8950\n",
      "Epoch 67/100\n",
      "85/85 [==============================] - 10s 113ms/step - loss: 0.4139 - accuracy: 0.8403 - val_loss: 0.3804 - val_accuracy: 0.8647\n",
      "Epoch 68/100\n",
      "85/85 [==============================] - 10s 112ms/step - loss: 0.4152 - accuracy: 0.8382 - val_loss: 0.3664 - val_accuracy: 0.8736\n",
      "Epoch 69/100\n",
      "85/85 [==============================] - 9s 105ms/step - loss: 0.4298 - accuracy: 0.8365 - val_loss: 0.3515 - val_accuracy: 0.8877\n",
      "Epoch 70/100\n",
      "85/85 [==============================] - 9s 102ms/step - loss: 0.4416 - accuracy: 0.8309 - val_loss: 0.3348 - val_accuracy: 0.8854\n",
      "43/43 [==============================] - 0s 5ms/step - loss: 0.2001 - accuracy: 0.9446\n",
      "Loss: 0.20014919340610504, Accuracy: 0.9446085691452026\n",
      "Epoch 1/100\n",
      "85/85 [==============================] - 9s 103ms/step - loss: 1.6963 - accuracy: 0.2179 - val_loss: 1.6604 - val_accuracy: 0.1463\n",
      "Epoch 2/100\n",
      "85/85 [==============================] - 8s 100ms/step - loss: 1.3784 - accuracy: 0.3877 - val_loss: 1.4101 - val_accuracy: 0.3459\n",
      "Epoch 3/100\n",
      "85/85 [==============================] - 9s 107ms/step - loss: 1.2455 - accuracy: 0.4455 - val_loss: 1.3095 - val_accuracy: 0.3939\n",
      "Epoch 4/100\n",
      "85/85 [==============================] - 9s 110ms/step - loss: 1.1837 - accuracy: 0.4781 - val_loss: 1.3424 - val_accuracy: 0.3703\n",
      "Epoch 5/100\n",
      "85/85 [==============================] - 9s 103ms/step - loss: 1.1345 - accuracy: 0.5036 - val_loss: 1.2820 - val_accuracy: 0.4257\n",
      "Epoch 6/100\n",
      "85/85 [==============================] - 8s 99ms/step - loss: 1.0895 - accuracy: 0.5248 - val_loss: 1.1799 - val_accuracy: 0.4627\n",
      "Epoch 7/100\n",
      "85/85 [==============================] - 9s 102ms/step - loss: 1.0492 - accuracy: 0.5409 - val_loss: 1.1398 - val_accuracy: 0.4723\n",
      "Epoch 8/100\n",
      "85/85 [==============================] - 8s 99ms/step - loss: 1.0202 - accuracy: 0.5617 - val_loss: 1.0533 - val_accuracy: 0.5203\n",
      "Epoch 9/100\n",
      "85/85 [==============================] - 8s 97ms/step - loss: 0.9946 - accuracy: 0.5712 - val_loss: 0.9956 - val_accuracy: 0.5580\n",
      "Epoch 10/100\n",
      "85/85 [==============================] - 8s 99ms/step - loss: 0.9520 - accuracy: 0.5954 - val_loss: 1.0323 - val_accuracy: 0.5336\n",
      "Epoch 11/100\n",
      "85/85 [==============================] - 8s 97ms/step - loss: 0.9309 - accuracy: 0.6095 - val_loss: 0.9849 - val_accuracy: 0.5713\n",
      "Epoch 12/100\n",
      "85/85 [==============================] - 8s 98ms/step - loss: 0.9127 - accuracy: 0.6179 - val_loss: 0.9843 - val_accuracy: 0.5706\n",
      "Epoch 13/100\n",
      "85/85 [==============================] - 8s 98ms/step - loss: 0.8826 - accuracy: 0.6295 - val_loss: 1.0210 - val_accuracy: 0.5447\n",
      "Epoch 14/100\n",
      "85/85 [==============================] - 8s 97ms/step - loss: 0.8737 - accuracy: 0.6387 - val_loss: 0.9153 - val_accuracy: 0.6024\n",
      "Epoch 15/100\n",
      "85/85 [==============================] - 8s 97ms/step - loss: 0.8512 - accuracy: 0.6485 - val_loss: 0.9007 - val_accuracy: 0.6120\n",
      "Epoch 16/100\n",
      "85/85 [==============================] - 8s 97ms/step - loss: 0.8341 - accuracy: 0.6554 - val_loss: 0.8688 - val_accuracy: 0.6349\n",
      "Epoch 17/100\n",
      "85/85 [==============================] - 8s 98ms/step - loss: 0.8202 - accuracy: 0.6600 - val_loss: 0.8650 - val_accuracy: 0.6364\n",
      "Epoch 18/100\n",
      "85/85 [==============================] - 8s 98ms/step - loss: 0.8009 - accuracy: 0.6673 - val_loss: 0.8960 - val_accuracy: 0.6297\n",
      "Epoch 19/100\n",
      "85/85 [==============================] - 8s 98ms/step - loss: 0.7903 - accuracy: 0.6756 - val_loss: 0.8546 - val_accuracy: 0.6378\n",
      "Epoch 20/100\n",
      "85/85 [==============================] - 8s 97ms/step - loss: 0.7750 - accuracy: 0.6784 - val_loss: 0.8057 - val_accuracy: 0.6681\n",
      "Epoch 21/100\n",
      "85/85 [==============================] - 8s 99ms/step - loss: 0.7638 - accuracy: 0.6882 - val_loss: 0.8199 - val_accuracy: 0.6534\n",
      "Epoch 22/100\n",
      "85/85 [==============================] - 8s 98ms/step - loss: 0.7525 - accuracy: 0.6931 - val_loss: 0.8176 - val_accuracy: 0.6593\n",
      "Epoch 23/100\n",
      "85/85 [==============================] - 8s 98ms/step - loss: 0.7336 - accuracy: 0.7006 - val_loss: 0.7878 - val_accuracy: 0.6778\n",
      "Epoch 24/100\n",
      "85/85 [==============================] - 8s 98ms/step - loss: 0.7261 - accuracy: 0.7027 - val_loss: 0.7775 - val_accuracy: 0.6778\n",
      "Epoch 25/100\n",
      "85/85 [==============================] - 8s 99ms/step - loss: 0.7324 - accuracy: 0.7045 - val_loss: 0.7756 - val_accuracy: 0.6763\n",
      "Epoch 26/100\n",
      "85/85 [==============================] - 8s 97ms/step - loss: 0.6949 - accuracy: 0.7198 - val_loss: 0.7083 - val_accuracy: 0.7221\n",
      "Epoch 27/100\n",
      "85/85 [==============================] - 8s 97ms/step - loss: 0.6916 - accuracy: 0.7210 - val_loss: 0.7373 - val_accuracy: 0.7147\n",
      "Epoch 28/100\n",
      "85/85 [==============================] - 8s 98ms/step - loss: 0.6886 - accuracy: 0.7185 - val_loss: 0.7128 - val_accuracy: 0.7214\n",
      "Epoch 29/100\n",
      "85/85 [==============================] - 8s 97ms/step - loss: 0.6607 - accuracy: 0.7322 - val_loss: 0.6928 - val_accuracy: 0.7302\n",
      "Epoch 30/100\n",
      "85/85 [==============================] - 8s 99ms/step - loss: 0.6583 - accuracy: 0.7330 - val_loss: 0.7190 - val_accuracy: 0.6984\n",
      "Epoch 31/100\n",
      "85/85 [==============================] - 8s 97ms/step - loss: 0.6454 - accuracy: 0.7369 - val_loss: 0.6539 - val_accuracy: 0.7421\n",
      "Epoch 32/100\n",
      "85/85 [==============================] - 8s 96ms/step - loss: 0.6412 - accuracy: 0.7458 - val_loss: 0.6481 - val_accuracy: 0.7546\n",
      "Epoch 33/100\n",
      "85/85 [==============================] - 8s 97ms/step - loss: 0.6288 - accuracy: 0.7550 - val_loss: 0.6516 - val_accuracy: 0.7605\n",
      "Epoch 34/100\n",
      "85/85 [==============================] - 8s 99ms/step - loss: 0.6182 - accuracy: 0.7513 - val_loss: 0.6285 - val_accuracy: 0.7591\n",
      "Epoch 35/100\n",
      "85/85 [==============================] - 8s 100ms/step - loss: 0.6065 - accuracy: 0.7636 - val_loss: 0.6207 - val_accuracy: 0.7576\n",
      "Epoch 36/100\n",
      "85/85 [==============================] - 9s 100ms/step - loss: 0.6001 - accuracy: 0.7611 - val_loss: 0.6143 - val_accuracy: 0.7731\n",
      "Epoch 37/100\n",
      "85/85 [==============================] - 9s 100ms/step - loss: 0.5908 - accuracy: 0.7680 - val_loss: 0.5681 - val_accuracy: 0.7827\n",
      "Epoch 38/100\n",
      "85/85 [==============================] - 9s 101ms/step - loss: 0.5915 - accuracy: 0.7658 - val_loss: 0.5575 - val_accuracy: 0.7827\n",
      "Epoch 39/100\n",
      "85/85 [==============================] - 9s 102ms/step - loss: 0.5873 - accuracy: 0.7716 - val_loss: 0.5852 - val_accuracy: 0.7709\n",
      "Epoch 40/100\n",
      "85/85 [==============================] - 9s 102ms/step - loss: 0.5674 - accuracy: 0.7757 - val_loss: 0.5252 - val_accuracy: 0.8071\n",
      "Epoch 41/100\n",
      "85/85 [==============================] - 9s 100ms/step - loss: 0.5464 - accuracy: 0.7873 - val_loss: 0.6182 - val_accuracy: 0.7524\n",
      "Epoch 42/100\n",
      "85/85 [==============================] - 8s 100ms/step - loss: 0.5627 - accuracy: 0.7794 - val_loss: 0.5459 - val_accuracy: 0.7842\n",
      "Epoch 43/100\n",
      "85/85 [==============================] - 8s 100ms/step - loss: 0.5625 - accuracy: 0.7841 - val_loss: 0.5480 - val_accuracy: 0.7923\n",
      "Epoch 44/100\n",
      "85/85 [==============================] - 9s 101ms/step - loss: 0.5378 - accuracy: 0.7850 - val_loss: 0.5078 - val_accuracy: 0.8174\n",
      "Epoch 45/100\n",
      "85/85 [==============================] - 9s 100ms/step - loss: 0.5381 - accuracy: 0.7872 - val_loss: 0.4993 - val_accuracy: 0.8226\n",
      "Epoch 46/100\n",
      "85/85 [==============================] - 9s 100ms/step - loss: 0.5374 - accuracy: 0.7903 - val_loss: 0.4800 - val_accuracy: 0.8315\n",
      "Epoch 47/100\n",
      "85/85 [==============================] - 9s 102ms/step - loss: 0.5212 - accuracy: 0.7946 - val_loss: 0.5205 - val_accuracy: 0.8086\n",
      "Epoch 48/100\n",
      "85/85 [==============================] - 9s 102ms/step - loss: 0.5144 - accuracy: 0.8020 - val_loss: 0.5563 - val_accuracy: 0.7775\n",
      "Epoch 49/100\n",
      "85/85 [==============================] - 9s 102ms/step - loss: 0.5017 - accuracy: 0.8072 - val_loss: 0.4809 - val_accuracy: 0.8174\n",
      "Epoch 50/100\n",
      "85/85 [==============================] - 9s 102ms/step - loss: 0.4903 - accuracy: 0.8086 - val_loss: 0.4714 - val_accuracy: 0.8344\n",
      "Epoch 51/100\n",
      "85/85 [==============================] - 9s 102ms/step - loss: 0.5097 - accuracy: 0.8015 - val_loss: 0.4604 - val_accuracy: 0.8307\n",
      "Epoch 52/100\n",
      "85/85 [==============================] - 9s 104ms/step - loss: 0.4875 - accuracy: 0.8161 - val_loss: 0.4445 - val_accuracy: 0.8411\n",
      "Epoch 53/100\n",
      "85/85 [==============================] - 9s 106ms/step - loss: 0.4742 - accuracy: 0.8155 - val_loss: 0.4644 - val_accuracy: 0.8234\n",
      "Epoch 54/100\n",
      "85/85 [==============================] - 9s 103ms/step - loss: 0.4744 - accuracy: 0.8150 - val_loss: 0.4327 - val_accuracy: 0.8315\n",
      "Epoch 55/100\n",
      "85/85 [==============================] - 9s 105ms/step - loss: 0.4881 - accuracy: 0.8089 - val_loss: 0.4273 - val_accuracy: 0.8500\n",
      "Epoch 56/100\n",
      "85/85 [==============================] - 9s 106ms/step - loss: 0.4668 - accuracy: 0.8212 - val_loss: 0.4438 - val_accuracy: 0.8352\n",
      "Epoch 57/100\n",
      "85/85 [==============================] - 9s 103ms/step - loss: 0.4692 - accuracy: 0.8204 - val_loss: 0.4273 - val_accuracy: 0.8537\n",
      "Epoch 58/100\n",
      "85/85 [==============================] - 9s 103ms/step - loss: 0.4576 - accuracy: 0.8238 - val_loss: 0.4494 - val_accuracy: 0.8367\n",
      "Epoch 59/100\n",
      "85/85 [==============================] - 9s 101ms/step - loss: 0.4455 - accuracy: 0.8295 - val_loss: 0.4080 - val_accuracy: 0.8603\n",
      "Epoch 60/100\n",
      "85/85 [==============================] - 9s 100ms/step - loss: 0.4565 - accuracy: 0.8258 - val_loss: 0.4133 - val_accuracy: 0.8559\n",
      "Epoch 61/100\n",
      "85/85 [==============================] - 9s 101ms/step - loss: 0.4467 - accuracy: 0.8286 - val_loss: 0.4174 - val_accuracy: 0.8455\n",
      "Epoch 62/100\n",
      "85/85 [==============================] - 8s 99ms/step - loss: 0.4363 - accuracy: 0.8319 - val_loss: 0.4040 - val_accuracy: 0.8647\n",
      "Epoch 63/100\n",
      "85/85 [==============================] - 8s 98ms/step - loss: 0.4242 - accuracy: 0.8385 - val_loss: 0.4029 - val_accuracy: 0.8699\n",
      "Epoch 64/100\n",
      "85/85 [==============================] - 8s 97ms/step - loss: 0.4343 - accuracy: 0.8295 - val_loss: 0.4222 - val_accuracy: 0.8404\n",
      "Epoch 65/100\n",
      "85/85 [==============================] - 8s 99ms/step - loss: 0.4260 - accuracy: 0.8381 - val_loss: 0.4079 - val_accuracy: 0.8588\n",
      "Epoch 66/100\n",
      "85/85 [==============================] - 8s 96ms/step - loss: 0.4222 - accuracy: 0.8393 - val_loss: 0.3839 - val_accuracy: 0.8677\n",
      "Epoch 67/100\n",
      "85/85 [==============================] - 8s 97ms/step - loss: 0.4234 - accuracy: 0.8396 - val_loss: 0.3565 - val_accuracy: 0.8773\n",
      "Epoch 68/100\n",
      "85/85 [==============================] - 8s 98ms/step - loss: 0.4044 - accuracy: 0.8404 - val_loss: 0.3925 - val_accuracy: 0.8714\n",
      "Epoch 69/100\n",
      "85/85 [==============================] - 8s 97ms/step - loss: 0.3984 - accuracy: 0.8492 - val_loss: 0.3625 - val_accuracy: 0.8795\n",
      "Epoch 70/100\n",
      "85/85 [==============================] - 8s 96ms/step - loss: 0.4043 - accuracy: 0.8480 - val_loss: 0.3858 - val_accuracy: 0.8640\n",
      "Epoch 71/100\n",
      "85/85 [==============================] - 8s 97ms/step - loss: 0.3917 - accuracy: 0.8483 - val_loss: 0.3461 - val_accuracy: 0.8810\n",
      "Epoch 72/100\n",
      "85/85 [==============================] - 8s 98ms/step - loss: 0.4047 - accuracy: 0.8442 - val_loss: 0.3861 - val_accuracy: 0.8603\n",
      "Epoch 73/100\n",
      "85/85 [==============================] - 8s 96ms/step - loss: 0.4000 - accuracy: 0.8482 - val_loss: 0.3861 - val_accuracy: 0.8677\n",
      "Epoch 74/100\n",
      "85/85 [==============================] - 8s 97ms/step - loss: 0.3914 - accuracy: 0.8546 - val_loss: 0.3536 - val_accuracy: 0.8832\n",
      "Epoch 75/100\n",
      "85/85 [==============================] - 8s 99ms/step - loss: 0.3815 - accuracy: 0.8518 - val_loss: 0.3375 - val_accuracy: 0.8891\n",
      "Epoch 76/100\n",
      "85/85 [==============================] - 8s 98ms/step - loss: 0.3833 - accuracy: 0.8576 - val_loss: 0.3319 - val_accuracy: 0.8891\n",
      "Epoch 77/100\n",
      "85/85 [==============================] - 8s 95ms/step - loss: 0.3844 - accuracy: 0.8534 - val_loss: 0.3581 - val_accuracy: 0.8825\n",
      "Epoch 78/100\n",
      "85/85 [==============================] - 8s 95ms/step - loss: 0.3861 - accuracy: 0.8527 - val_loss: 0.3585 - val_accuracy: 0.8869\n",
      "43/43 [==============================] - 0s 5ms/step - loss: 0.1630 - accuracy: 0.9513\n",
      "Loss: 0.1630072295665741, Accuracy: 0.9512555599212646\n",
      "Epoch 1/100\n",
      "85/85 [==============================] - 10s 106ms/step - loss: 1.6766 - accuracy: 0.2326 - val_loss: 1.6131 - val_accuracy: 0.2964\n",
      "Epoch 2/100\n",
      "85/85 [==============================] - 8s 99ms/step - loss: 1.3975 - accuracy: 0.3699 - val_loss: 1.5444 - val_accuracy: 0.3104\n",
      "Epoch 3/100\n",
      "85/85 [==============================] - 8s 97ms/step - loss: 1.2852 - accuracy: 0.4359 - val_loss: 1.3912 - val_accuracy: 0.3888\n",
      "Epoch 4/100\n",
      "85/85 [==============================] - 8s 100ms/step - loss: 1.1899 - accuracy: 0.4740 - val_loss: 1.2946 - val_accuracy: 0.3777\n",
      "Epoch 5/100\n",
      "85/85 [==============================] - 8s 100ms/step - loss: 1.1407 - accuracy: 0.4957 - val_loss: 1.2867 - val_accuracy: 0.4117\n",
      "Epoch 6/100\n",
      "85/85 [==============================] - 8s 95ms/step - loss: 1.0918 - accuracy: 0.5149 - val_loss: 1.2670 - val_accuracy: 0.4272\n",
      "Epoch 7/100\n",
      "85/85 [==============================] - 8s 95ms/step - loss: 1.0483 - accuracy: 0.5389 - val_loss: 1.1288 - val_accuracy: 0.4819\n",
      "Epoch 8/100\n",
      "85/85 [==============================] - 8s 94ms/step - loss: 1.0243 - accuracy: 0.5520 - val_loss: 1.1666 - val_accuracy: 0.4738\n",
      "Epoch 9/100\n",
      "85/85 [==============================] - 8s 94ms/step - loss: 0.9773 - accuracy: 0.5700 - val_loss: 1.0713 - val_accuracy: 0.5381\n",
      "Epoch 10/100\n",
      "85/85 [==============================] - 8s 93ms/step - loss: 0.9580 - accuracy: 0.5849 - val_loss: 1.0368 - val_accuracy: 0.5078\n",
      "Epoch 11/100\n",
      "85/85 [==============================] - 8s 93ms/step - loss: 0.9334 - accuracy: 0.5973 - val_loss: 0.9513 - val_accuracy: 0.5743\n",
      "Epoch 12/100\n",
      "85/85 [==============================] - 8s 93ms/step - loss: 0.9244 - accuracy: 0.6023 - val_loss: 1.0567 - val_accuracy: 0.5188\n",
      "Epoch 13/100\n",
      "85/85 [==============================] - 8s 93ms/step - loss: 0.8723 - accuracy: 0.6326 - val_loss: 0.9592 - val_accuracy: 0.5743\n",
      "Epoch 14/100\n",
      "85/85 [==============================] - 8s 93ms/step - loss: 0.8573 - accuracy: 0.6321 - val_loss: 0.9348 - val_accuracy: 0.5713\n",
      "Epoch 15/100\n",
      "85/85 [==============================] - 8s 93ms/step - loss: 0.8413 - accuracy: 0.6416 - val_loss: 0.8869 - val_accuracy: 0.6105\n",
      "Epoch 16/100\n",
      "85/85 [==============================] - 8s 92ms/step - loss: 0.8086 - accuracy: 0.6588 - val_loss: 0.8909 - val_accuracy: 0.5928\n",
      "Epoch 17/100\n",
      "85/85 [==============================] - 8s 92ms/step - loss: 0.7983 - accuracy: 0.6609 - val_loss: 0.8728 - val_accuracy: 0.6423\n",
      "Epoch 18/100\n",
      "85/85 [==============================] - 8s 92ms/step - loss: 0.7735 - accuracy: 0.6789 - val_loss: 0.8343 - val_accuracy: 0.6386\n",
      "Epoch 19/100\n",
      "85/85 [==============================] - 8s 93ms/step - loss: 0.7551 - accuracy: 0.6882 - val_loss: 0.7985 - val_accuracy: 0.6667\n",
      "Epoch 20/100\n",
      "85/85 [==============================] - 8s 93ms/step - loss: 0.7301 - accuracy: 0.6966 - val_loss: 0.8373 - val_accuracy: 0.6245\n",
      "Epoch 21/100\n",
      "85/85 [==============================] - 8s 92ms/step - loss: 0.7210 - accuracy: 0.7033 - val_loss: 0.7633 - val_accuracy: 0.6881\n",
      "Epoch 22/100\n",
      "85/85 [==============================] - 8s 93ms/step - loss: 0.7098 - accuracy: 0.7098 - val_loss: 0.8178 - val_accuracy: 0.6630\n",
      "Epoch 23/100\n",
      "85/85 [==============================] - 8s 93ms/step - loss: 0.7029 - accuracy: 0.7093 - val_loss: 0.7552 - val_accuracy: 0.6704\n",
      "Epoch 24/100\n",
      "85/85 [==============================] - 8s 93ms/step - loss: 0.6873 - accuracy: 0.7198 - val_loss: 0.7035 - val_accuracy: 0.7140\n",
      "Epoch 25/100\n",
      "85/85 [==============================] - 8s 92ms/step - loss: 0.6540 - accuracy: 0.7317 - val_loss: 0.6320 - val_accuracy: 0.7384\n",
      "Epoch 26/100\n",
      "85/85 [==============================] - 8s 92ms/step - loss: 0.6517 - accuracy: 0.7324 - val_loss: 0.7772 - val_accuracy: 0.6571\n",
      "Epoch 27/100\n",
      "85/85 [==============================] - 8s 93ms/step - loss: 0.6416 - accuracy: 0.7423 - val_loss: 0.6480 - val_accuracy: 0.7509\n",
      "Epoch 28/100\n",
      "85/85 [==============================] - 8s 96ms/step - loss: 0.6266 - accuracy: 0.7438 - val_loss: 0.6808 - val_accuracy: 0.7339\n",
      "Epoch 29/100\n",
      "85/85 [==============================] - 8s 95ms/step - loss: 0.6206 - accuracy: 0.7511 - val_loss: 0.6349 - val_accuracy: 0.7421\n",
      "Epoch 30/100\n",
      "85/85 [==============================] - 8s 96ms/step - loss: 0.6015 - accuracy: 0.7579 - val_loss: 0.6373 - val_accuracy: 0.7398\n",
      "Epoch 31/100\n",
      "85/85 [==============================] - 8s 96ms/step - loss: 0.5894 - accuracy: 0.7579 - val_loss: 0.6092 - val_accuracy: 0.7561\n",
      "Epoch 32/100\n",
      "85/85 [==============================] - 8s 96ms/step - loss: 0.5820 - accuracy: 0.7675 - val_loss: 0.5973 - val_accuracy: 0.7642\n",
      "Epoch 33/100\n",
      "85/85 [==============================] - 8s 96ms/step - loss: 0.5763 - accuracy: 0.7720 - val_loss: 0.5665 - val_accuracy: 0.7805\n",
      "Epoch 34/100\n",
      "85/85 [==============================] - 8s 96ms/step - loss: 0.5725 - accuracy: 0.7726 - val_loss: 0.6081 - val_accuracy: 0.7554\n",
      "Epoch 35/100\n",
      "85/85 [==============================] - 8s 98ms/step - loss: 0.5710 - accuracy: 0.7697 - val_loss: 0.5491 - val_accuracy: 0.7931\n",
      "Epoch 36/100\n",
      "85/85 [==============================] - 8s 93ms/step - loss: 0.5446 - accuracy: 0.7813 - val_loss: 0.6036 - val_accuracy: 0.7635\n",
      "Epoch 37/100\n",
      "85/85 [==============================] - 8s 92ms/step - loss: 0.5269 - accuracy: 0.7853 - val_loss: 0.5282 - val_accuracy: 0.7871\n",
      "Epoch 38/100\n",
      "85/85 [==============================] - 8s 92ms/step - loss: 0.5237 - accuracy: 0.7908 - val_loss: 0.5192 - val_accuracy: 0.8004\n",
      "Epoch 39/100\n",
      "85/85 [==============================] - 8s 92ms/step - loss: 0.5472 - accuracy: 0.7856 - val_loss: 0.5351 - val_accuracy: 0.7945\n",
      "Epoch 40/100\n",
      "85/85 [==============================] - 8s 92ms/step - loss: 0.5074 - accuracy: 0.7987 - val_loss: 0.4998 - val_accuracy: 0.8027\n",
      "Epoch 41/100\n",
      "85/85 [==============================] - 8s 92ms/step - loss: 0.5103 - accuracy: 0.7922 - val_loss: 0.4935 - val_accuracy: 0.8152\n",
      "Epoch 42/100\n",
      "85/85 [==============================] - 8s 92ms/step - loss: 0.5057 - accuracy: 0.7996 - val_loss: 0.5264 - val_accuracy: 0.7967\n",
      "Epoch 43/100\n",
      "85/85 [==============================] - 8s 92ms/step - loss: 0.4934 - accuracy: 0.8110 - val_loss: 0.4685 - val_accuracy: 0.8234\n",
      "Epoch 44/100\n",
      "85/85 [==============================] - 8s 92ms/step - loss: 0.4946 - accuracy: 0.8040 - val_loss: 0.4896 - val_accuracy: 0.8174\n",
      "Epoch 45/100\n",
      "85/85 [==============================] - 8s 92ms/step - loss: 0.4832 - accuracy: 0.8047 - val_loss: 0.4847 - val_accuracy: 0.8263\n",
      "Epoch 46/100\n",
      "85/85 [==============================] - 8s 92ms/step - loss: 0.4805 - accuracy: 0.8116 - val_loss: 0.4593 - val_accuracy: 0.8418\n",
      "Epoch 47/100\n",
      "85/85 [==============================] - 8s 92ms/step - loss: 0.4681 - accuracy: 0.8171 - val_loss: 0.4564 - val_accuracy: 0.8241\n",
      "Epoch 48/100\n",
      "85/85 [==============================] - 8s 92ms/step - loss: 0.4666 - accuracy: 0.8126 - val_loss: 0.4422 - val_accuracy: 0.8374\n",
      "Epoch 49/100\n",
      "85/85 [==============================] - 8s 94ms/step - loss: 0.4591 - accuracy: 0.8181 - val_loss: 0.4474 - val_accuracy: 0.8381\n",
      "Epoch 50/100\n",
      "85/85 [==============================] - 8s 95ms/step - loss: 0.4611 - accuracy: 0.8193 - val_loss: 0.4325 - val_accuracy: 0.8448\n",
      "Epoch 51/100\n",
      "85/85 [==============================] - 8s 95ms/step - loss: 0.4421 - accuracy: 0.8242 - val_loss: 0.4067 - val_accuracy: 0.8566\n",
      "Epoch 52/100\n",
      "85/85 [==============================] - 8s 94ms/step - loss: 0.4450 - accuracy: 0.8246 - val_loss: 0.4357 - val_accuracy: 0.8418\n",
      "Epoch 53/100\n",
      "85/85 [==============================] - 8s 95ms/step - loss: 0.4551 - accuracy: 0.8229 - val_loss: 0.4429 - val_accuracy: 0.8307\n",
      "Epoch 54/100\n",
      "85/85 [==============================] - 8s 95ms/step - loss: 0.4365 - accuracy: 0.8309 - val_loss: 0.3951 - val_accuracy: 0.8455\n",
      "Epoch 55/100\n",
      "85/85 [==============================] - 8s 95ms/step - loss: 0.4359 - accuracy: 0.8299 - val_loss: 0.3929 - val_accuracy: 0.8670\n",
      "Epoch 56/100\n",
      "85/85 [==============================] - 8s 95ms/step - loss: 0.4272 - accuracy: 0.8353 - val_loss: 0.4076 - val_accuracy: 0.8559\n",
      "Epoch 57/100\n",
      "85/85 [==============================] - 8s 96ms/step - loss: 0.4203 - accuracy: 0.8322 - val_loss: 0.3656 - val_accuracy: 0.8655\n",
      "Epoch 58/100\n",
      "85/85 [==============================] - 8s 96ms/step - loss: 0.4144 - accuracy: 0.8400 - val_loss: 0.4196 - val_accuracy: 0.8463\n",
      "Epoch 59/100\n",
      "85/85 [==============================] - 8s 95ms/step - loss: 0.4092 - accuracy: 0.8414 - val_loss: 0.3710 - val_accuracy: 0.8692\n",
      "Epoch 60/100\n",
      "85/85 [==============================] - 8s 95ms/step - loss: 0.4206 - accuracy: 0.8370 - val_loss: 0.4103 - val_accuracy: 0.8588\n",
      "Epoch 61/100\n",
      "85/85 [==============================] - 8s 95ms/step - loss: 0.4114 - accuracy: 0.8378 - val_loss: 0.3640 - val_accuracy: 0.8699\n",
      "Epoch 62/100\n",
      "85/85 [==============================] - 8s 95ms/step - loss: 0.3966 - accuracy: 0.8478 - val_loss: 0.3747 - val_accuracy: 0.8721\n",
      "Epoch 63/100\n",
      "85/85 [==============================] - 8s 95ms/step - loss: 0.4070 - accuracy: 0.8445 - val_loss: 0.3661 - val_accuracy: 0.8773\n",
      "Epoch 64/100\n",
      "85/85 [==============================] - 8s 94ms/step - loss: 0.3928 - accuracy: 0.8419 - val_loss: 0.3606 - val_accuracy: 0.8677\n",
      "Epoch 65/100\n",
      "85/85 [==============================] - 8s 97ms/step - loss: 0.4042 - accuracy: 0.8475 - val_loss: 0.3581 - val_accuracy: 0.8758\n",
      "Epoch 66/100\n",
      "85/85 [==============================] - 8s 96ms/step - loss: 0.3927 - accuracy: 0.8473 - val_loss: 0.3289 - val_accuracy: 0.8825\n",
      "Epoch 67/100\n",
      "85/85 [==============================] - 8s 97ms/step - loss: 0.3891 - accuracy: 0.8469 - val_loss: 0.3510 - val_accuracy: 0.8773\n",
      "Epoch 68/100\n",
      "85/85 [==============================] - 8s 95ms/step - loss: 0.3865 - accuracy: 0.8488 - val_loss: 0.3656 - val_accuracy: 0.8640\n",
      "Epoch 69/100\n",
      "85/85 [==============================] - 8s 95ms/step - loss: 0.3846 - accuracy: 0.8493 - val_loss: 0.3502 - val_accuracy: 0.8766\n",
      "Epoch 70/100\n",
      "85/85 [==============================] - 8s 95ms/step - loss: 0.3819 - accuracy: 0.8532 - val_loss: 0.3397 - val_accuracy: 0.8877\n",
      "Epoch 71/100\n",
      "85/85 [==============================] - 8s 95ms/step - loss: 0.3652 - accuracy: 0.8578 - val_loss: 0.3375 - val_accuracy: 0.8958\n",
      "Epoch 72/100\n",
      "85/85 [==============================] - 8s 96ms/step - loss: 0.3800 - accuracy: 0.8543 - val_loss: 0.3237 - val_accuracy: 0.8928\n",
      "Epoch 73/100\n",
      "85/85 [==============================] - 8s 96ms/step - loss: 0.3744 - accuracy: 0.8569 - val_loss: 0.3209 - val_accuracy: 0.8928\n",
      "Epoch 74/100\n",
      "85/85 [==============================] - 8s 95ms/step - loss: 0.3629 - accuracy: 0.8604 - val_loss: 0.3153 - val_accuracy: 0.8995\n",
      "Epoch 75/100\n",
      "85/85 [==============================] - 8s 95ms/step - loss: 0.3530 - accuracy: 0.8657 - val_loss: 0.3214 - val_accuracy: 0.8936\n",
      "Epoch 76/100\n",
      "85/85 [==============================] - 8s 96ms/step - loss: 0.3668 - accuracy: 0.8583 - val_loss: 0.3304 - val_accuracy: 0.8914\n",
      "Epoch 77/100\n",
      "85/85 [==============================] - 8s 94ms/step - loss: 0.3789 - accuracy: 0.8589 - val_loss: 0.3020 - val_accuracy: 0.9047\n",
      "Epoch 78/100\n",
      "85/85 [==============================] - 8s 94ms/step - loss: 0.3627 - accuracy: 0.8634 - val_loss: 0.2971 - val_accuracy: 0.8943\n",
      "43/43 [==============================] - 0s 5ms/step - loss: 0.1496 - accuracy: 0.9535\n",
      "Loss: 0.14962901175022125, Accuracy: 0.9534711837768555\n"
     ]
    }
   ],
   "source": [
    "for train_index, test_index in skf.split(X, y):\n",
    "    # Dividir los datos en conjuntos de entrenamiento y prueba para esta iteración\n",
    "    # Dividir los datos en conjuntos de entrenamiento, validación y prueba para esta iteración\n",
    "    \n",
    "    # Dividir los datos en conjuntos de entrenamiento, validación y prueba para esta iteración\n",
    "    X_train, X_val, X_test = X[train_index], X[test_index][:len(test_index)//2], X[test_index][len(test_index)//2:]\n",
    "    y_train, y_val, y_test = y[train_index], y[test_index][:len(test_index)//2], y[test_index][len(test_index)//2:]\n",
    "\n",
    "    model = Sequential()\n",
    "    model.add(Conv2D(32, kernel_size=(3, 3), strides=(1, 1), padding='same', activation='relu', input_shape=(32, 32, 3)))\n",
    "    model.add(Dropout(0.2))\n",
    "    model.add(Conv2D(8, kernel_size=(3, 3), strides=(2, 2), padding='same', activation='relu'))\n",
    "    model.add(Dropout(0.2))\n",
    "    model.add(Conv2D(32, kernel_size=(3, 3), strides=(2, 2), padding='same', activation='relu'))\n",
    "    model.add(Dropout(0.2))\n",
    "    model.add(Conv2D(56, kernel_size=(3, 3), strides=(2, 2), padding='same', activation='relu'))\n",
    "    model.add(MaxPooling2D(pool_size=(2, 2), strides=2))\n",
    "    model.add(Dropout(0.2))\n",
    "    model.add(Flatten())\n",
    "    model.add(Dense(6))\n",
    "\n",
    "\n",
    "    model.compile(loss=tf.keras.losses.SparseCategoricalCrossentropy(from_logits=True), \n",
    "              optimizer=tf.keras.optimizers.Adam(learning_rate=0.001), \n",
    "              metrics=['accuracy'])\n",
    "    model_train = model.fit(X_train,y_train,validation_data=(X_val, y_val), batch_size=batch_size, \n",
    "          epochs=epochs, verbose=1,  \n",
    "          callbacks=[custom_early_stopping,tensorboard])\n",
    "    \n",
    "    loss, accuracy = model.evaluate(X_test, y_test, verbose=1)\n",
    "    losses.append(loss)\n",
    "    accuracies.append(accuracy)\n",
    "    print(f\"Loss: {loss}, Accuracy: {accuracy}\")\n",
    "    # Guardar el val_loss y el val_accuracy final de esta iteración\n",
    "    val_loss = model_train.history['val_loss'][-1]\n",
    "    val_accuracy = model_train.history['val_accuracy'][-1]\n",
    "    val_losses.append(val_loss)\n",
    "    val_accuracies.append(val_accuracy)"
   ]
  },
  {
   "cell_type": "code",
   "execution_count": 16,
   "metadata": {},
   "outputs": [
    {
     "name": "stdout",
     "output_type": "stream",
     "text": [
      "Promedio de Loss: 0.33791608214378355, Promedio de Accuracy: 0.8879668831825256\n"
     ]
    }
   ],
   "source": [
    "# Calcular el promedio del accuracy y la pérdida\n",
    "avg_loss = np.mean(losses)\n",
    "avg_accuracy = np.max(accuracies)\n",
    "\n",
    "# Calcular el promedio de val_loss y val_accuracy\n",
    "avg_val_loss = np.mean(val_losses)\n",
    "avg_val_accuracy = np.mean(val_accuracies)\n",
    "\n",
    "print(f\"Promedio de Loss: {avg_val_loss}, Promedio de Accuracy: {avg_val_accuracy}\")"
   ]
  },
  {
   "cell_type": "markdown",
   "metadata": {},
   "source": [
    "# **Hyperparametor Tuning**"
   ]
  },
  {
   "cell_type": "code",
   "execution_count": 17,
   "metadata": {},
   "outputs": [
    {
     "name": "stderr",
     "output_type": "stream",
     "text": [
      "c:\\Users\\hpalm\\anaconda3\\envs\\tfradeon\\lib\\site-packages\\ipykernel_launcher.py:1: DeprecationWarning: `import kerastuner` is deprecated, please use `import keras_tuner`.\n",
      "  \"\"\"Entry point for launching an IPython kernel.\n"
     ]
    }
   ],
   "source": [
    "from kerastuner import RandomSearch \n",
    "from kerastuner.engine.hyperparameters import HyperParameters"
   ]
  },
  {
   "cell_type": "code",
   "execution_count": null,
   "metadata": {},
   "outputs": [],
   "source": [
    "LOG_DIR = f\"{int(time.time())}\""
   ]
  },
  {
   "cell_type": "code",
   "execution_count": null,
   "metadata": {},
   "outputs": [],
   "source": [
    "def build_model(hp):  \n",
    "  model = tf.keras.models.Sequential([\n",
    "    Conv2D(\n",
    "        filters=hp.Int('conv_1_filter', min_value=8, max_value=32, step=8),\n",
    "        kernel_size=hp.Choice('conv_1_kernel', values = [3,5]),\n",
    "        padding='same',\n",
    "        activation='relu',\n",
    "        input_shape=(32,32,3)\n",
    "    ),\n",
    "    MaxPooling2D(\n",
    "      pool_size=(2, 2),\n",
    "      strides=2\n",
    "    ),\n",
    "    Conv2D(\n",
    "        filters=hp.Int('conv_2_filter', min_value=16, max_value=64, step=8),\n",
    "        kernel_size=hp.Choice('conv_2_kernel', values = [3,5]),\n",
    "        padding='same',\n",
    "        activation='relu'\n",
    "    ),\n",
    "    MaxPooling2D(\n",
    "      pool_size=(2, 2),\n",
    "      strides=2\n",
    "    ),\n",
    "    Flatten(),\n",
    "    Dense(\n",
    "        units=hp.Int('dense_1_units', min_value=16, max_value=128, step=16),\n",
    "        activation='relu'\n",
    "    ),\n",
    "    Dense(6, activation='softmax')\n",
    "  ])\n",
    "  \n",
    "  model.compile(optimizer=tf.keras.optimizers.Adam(hp.Choice('learning_rate', values=[1e-2, 1e-3])),\n",
    "              loss=tf.keras.losses.SparseCategoricalCrossentropy(from_logits=True),\n",
    "              metrics=['accuracy'])\n",
    "  \n",
    "  return model"
   ]
  },
  {
   "cell_type": "code",
   "execution_count": null,
   "metadata": {},
   "outputs": [],
   "source": [
    "tuner_search=RandomSearch(build_model, objective='val_loss',max_trials=5, executions_per_trial = 2,directory=r'C:\\Users\\hpalm\\Desktop\\Programacion\\Proyecto_de_grado\\Jupyter\\Codigo\\hyperparameters',project_name='sEMG Clasification')"
   ]
  },
  {
   "cell_type": "code",
   "execution_count": 7,
   "metadata": {
    "colab": {
     "base_uri": "https://localhost:8080/"
    },
    "id": "_mlr178SrLhC",
    "outputId": "53b31588-e229-473c-d550-1f56486e1814"
   },
   "outputs": [
    {
     "name": "stdout",
     "output_type": "stream",
     "text": [
      "Testing data shape :  (1354, 32, 32, 3) (1354,)\n"
     ]
    }
   ],
   "source": [
    "#Test data // for testing at the end after tranning \n",
    "\n",
    "train_X,test_X,train_Y,test_Y = train_test_split(X,y,test_size=0.1)\n",
    "\n",
    "\n",
    "# #print('Training data shape : ', train_X.shape, train_Y.shape)\n",
    "# print('Testing data shape : ', test_X.shape, test_Y.shape)\n",
    "\n",
    "# validation data // for testing when tranning \n",
    "\n",
    "train_X,val_X,train_Y,val_Y = train_test_split(train_X,train_Y,test_size=0.1)\n",
    "print('Training data shape : ', train_X.shape, train_Y.shape)\n",
    "print('validation data shape : ', val_X.shape, val_Y.shape)"
   ]
  },
  {
   "cell_type": "code",
   "execution_count": null,
   "metadata": {},
   "outputs": [],
   "source": [
    "tuner_search.search(train_X, train_Y,epochs=20,validation_data=(val_X, val_Y))"
   ]
  },
  {
   "cell_type": "code",
   "execution_count": null,
   "metadata": {},
   "outputs": [],
   "source": [
    "model = tuner_search.get_best_models(num_models=1)[0]"
   ]
  },
  {
   "cell_type": "code",
   "execution_count": null,
   "metadata": {},
   "outputs": [],
   "source": [
    "model.summary()"
   ]
  },
  {
   "cell_type": "markdown",
   "metadata": {},
   "source": [
    "#  **Showing Architecture**"
   ]
  },
  {
   "cell_type": "code",
   "execution_count": 18,
   "metadata": {},
   "outputs": [
    {
     "name": "stdout",
     "output_type": "stream",
     "text": [
      "Model: \"sequential_4\"\n",
      "_________________________________________________________________\n",
      "Layer (type)                 Output Shape              Param #   \n",
      "=================================================================\n",
      "conv2d_16 (Conv2D)           (None, 32, 32, 32)        896       \n",
      "_________________________________________________________________\n",
      "dropout_16 (Dropout)         (None, 32, 32, 32)        0         \n",
      "_________________________________________________________________\n",
      "conv2d_17 (Conv2D)           (None, 16, 16, 8)         2312      \n",
      "_________________________________________________________________\n",
      "dropout_17 (Dropout)         (None, 16, 16, 8)         0         \n",
      "_________________________________________________________________\n",
      "conv2d_18 (Conv2D)           (None, 8, 8, 32)          2336      \n",
      "_________________________________________________________________\n",
      "dropout_18 (Dropout)         (None, 8, 8, 32)          0         \n",
      "_________________________________________________________________\n",
      "conv2d_19 (Conv2D)           (None, 4, 4, 56)          16184     \n",
      "_________________________________________________________________\n",
      "max_pooling2d_4 (MaxPooling2 (None, 2, 2, 56)          0         \n",
      "_________________________________________________________________\n",
      "dropout_19 (Dropout)         (None, 2, 2, 56)          0         \n",
      "_________________________________________________________________\n",
      "flatten_4 (Flatten)          (None, 224)               0         \n",
      "_________________________________________________________________\n",
      "dense_4 (Dense)              (None, 6)                 1350      \n",
      "=================================================================\n",
      "Total params: 23,078\n",
      "Trainable params: 23,078\n",
      "Non-trainable params: 0\n",
      "_________________________________________________________________\n"
     ]
    },
    {
     "data": {
      "image/png": "[encoded data removed]",
      "text/plain": [
       "<PIL.Image.Image image mode=RGBA size=368x233 at 0x269BB488668>"
      ]
     },
     "execution_count": 18,
     "metadata": {},
     "output_type": "execute_result"
    }
   ],
   "source": [
    "#from tensorflow.keras.utils import plot_model\n",
    "import visualkeras\n",
    "from PIL import ImageFont\n",
    "\n",
    "\n",
    "model.summary()\n",
    "\n",
    "\n",
    "visualkeras.layered_view(model, legend=True)"
   ]
  },
  {
   "cell_type": "code",
   "execution_count": 24,
   "metadata": {},
   "outputs": [],
   "source": [
    "def visualizacion_resultados(history):\n",
    "  \n",
    "  fig, ax = plt.subplots(1,2)\n",
    "  acc = history.history['accuracy']\n",
    "  loss = history.history['loss']\n",
    "  val_acc = history.history['val_accuracy']\n",
    "  val_loss = history.history['val_loss']\n",
    "  epochs  = range(len(acc))\n",
    "  fig.set_size_inches(16,9)\n",
    "\n",
    "  ax[0].plot(epochs,acc,'go-',label = 'Entrenamiento accuracy')\n",
    "  ax[0].plot(epochs,val_acc,'ro-',label = 'validacion acurracy')\n",
    "  ax[0].set_title('Entrenamiento & validacion accuracy')\n",
    "  ax[0].legend()\n",
    "  ax[0].set_xlabel('Epochs')\n",
    "  ax[0].set_ylabel('accuracy')\n",
    "\n",
    "  ax[1].plot(epochs,loss,'go-',label = 'Entrenamiento Loss')\n",
    "  ax[1].plot(epochs,val_loss,'ro-',label = 'validacion Loss')\n",
    "  ax[1].set_title('Entrenamiento & validacion Test')\n",
    "  ax[1].legend()\n",
    "  ax[1].set_xlabel('Epochs')\n",
    "  ax[1].set_ylabel('Loss')\n",
    "\n",
    "  plt.show()"
   ]
  },
  {
   "cell_type": "code",
   "execution_count": 25,
   "metadata": {
    "colab": {
     "base_uri": "https://localhost:8080/",
     "height": 545
    },
    "id": "K6EL2lPdI8rG",
    "outputId": "07b45139-b8c9-4a09-eeb0-9db6137ff1ea"
   },
   "outputs": [
    {
     "data": {
      "image/png": "[encoded data removed]",
      "text/plain": [
       "<Figure size 1152x648 with 2 Axes>"
      ]
     },
     "metadata": {
      "needs_background": "light"
     },
     "output_type": "display_data"
    }
   ],
   "source": [
    "visualizacion_resultados(model_train)"
   ]
  },
  {
   "cell_type": "markdown",
   "metadata": {
    "id": "onxLbvNe2Rqa"
   },
   "source": [
    "# **Generate Predictions**"
   ]
  },
  {
   "cell_type": "code",
   "execution_count": 23,
   "metadata": {},
   "outputs": [],
   "source": [
    "model.save(r\"models/prueba.h5\") "
   ]
  },
  {
   "cell_type": "code",
   "execution_count": 26,
   "metadata": {
    "colab": {
     "base_uri": "https://localhost:8080/"
    },
    "id": "ltb2_F8gLuwe",
    "outputId": "cedaa8fc-1502-4d2a-e7e3-c02ce0cc8ec0"
   },
   "outputs": [],
   "source": [
    "predicted_classes2 = model.predict(test_X)\n"
   ]
  },
  {
   "cell_type": "code",
   "execution_count": 27,
   "metadata": {
    "id": "FltHo13EL10k"
   },
   "outputs": [],
   "source": [
    "predicted_classes=[]\n",
    "for predicted_sport in predicted_classes2:\n",
    "    predicted_classes.append(predicted_sport.tolist().index(max(predicted_sport)))\n",
    "predicted_classes=np.array(predicted_classes)"
   ]
  },
  {
   "cell_type": "code",
   "execution_count": 28,
   "metadata": {
    "colab": {
     "base_uri": "https://localhost:8080/"
    },
    "id": "p-l1OSkXMNw8",
    "outputId": "dbeed208-672b-4aff-e9a4-8123491a6d9e"
   },
   "outputs": [
    {
     "data": {
      "text/plain": [
       "((1354,), (1354,))"
      ]
     },
     "execution_count": 28,
     "metadata": {},
     "output_type": "execute_result"
    }
   ],
   "source": [
    "predicted_classes.shape, test_Y.shape"
   ]
  },
  {
   "cell_type": "code",
   "execution_count": 29,
   "metadata": {
    "colab": {
     "base_uri": "https://localhost:8080/"
    },
    "id": "1oa9JAIqHU4Z",
    "outputId": "d45e4aab-38f1-4493-d82f-b94afdb949af"
   },
   "outputs": [
    {
     "data": {
      "text/plain": [
       "5"
      ]
     },
     "execution_count": 29,
     "metadata": {},
     "output_type": "execute_result"
    }
   ],
   "source": [
    "#rounded_labels = np.argmax(test_Y, axis=1)\n",
    "rounded_labels = test_Y\n",
    "rounded_labels[5]"
   ]
  },
  {
   "cell_type": "code",
   "execution_count": 30,
   "metadata": {},
   "outputs": [
    {
     "name": "stdout",
     "output_type": "stream",
     "text": [
      " 1/43 [..............................] - ETA: 0s - loss: 0.1956 - accuracy: 0.9375"
     ]
    },
    {
     "name": "stdout",
     "output_type": "stream",
     "text": [
      "43/43 [==============================] - 0s 5ms/step - loss: 0.1531 - accuracy: 0.9572\n"
     ]
    },
    {
     "data": {
      "text/plain": [
       "[0.153075709939003, 0.95716392993927]"
      ]
     },
     "execution_count": 30,
     "metadata": {},
     "output_type": "execute_result"
    }
   ],
   "source": [
    "model.evaluate(test_X,test_Y)"
   ]
  },
  {
   "cell_type": "markdown",
   "metadata": {
    "id": "ikcTgPSMzaV0"
   },
   "source": [
    "# **Matrix Confusion**"
   ]
  },
  {
   "cell_type": "code",
   "execution_count": 31,
   "metadata": {
    "id": "-zVQWqyPvAci"
   },
   "outputs": [],
   "source": [
    "from sklearn.metrics import confusion_matrix\n",
    "import itertools\n",
    "\n",
    "\n",
    "#predicted_classes_m = np.argmax(predicted_classes,axis=1)\n",
    "#test_Y_m = np.argmax(test_Y,axis=1)\n",
    "#Esto es dificil de leer \n",
    "\n",
    "#confusion_matrix(test_Y, predicted_classes_m)\n",
    "\n",
    "cm = confusion_matrix(rounded_labels,predicted_classes)\n",
    "\n"
   ]
  },
  {
   "cell_type": "code",
   "execution_count": 32,
   "metadata": {
    "id": "RkIHtxs4JK6r"
   },
   "outputs": [],
   "source": [
    "def plot_confusion_matrix(cm, classes,\n",
    "                          normalize=True,\n",
    "                          title='Confusion matrix',\n",
    "                          cmap=plt.cm.Blues):\n",
    "    \"\"\"\n",
    "    This function prints and plots the confusion matrix.\n",
    "    Normalization can be applied by setting `normalize=True`.\n",
    "    \"\"\"\n",
    "    plt.imshow(cm, interpolation='nearest', cmap=cmap)\n",
    "    plt.title(title)\n",
    "    plt.colorbar()\n",
    "    tick_marks = np.arange(len(classes))\n",
    "    plt.xticks(tick_marks, classes, rotation=45)\n",
    "    plt.yticks(tick_marks, classes)\n",
    "\n",
    "    if normalize:\n",
    "        cm = cm.astype('float') / cm.sum(axis=1)[:, np.newaxis]\n",
    "        print(\"Normalized confusion matrix\")\n",
    "    else:\n",
    "        print('Confusion matrix, without normalization')\n",
    "\n",
    "    print(cm)\n",
    "\n",
    "    thresh = cm.max() / 2.\n",
    "    for i, j in itertools.product(range(cm.shape[0]), range(cm.shape[1])):\n",
    "        plt.text(j, i, format(cm[i, j],'.2f'),\n",
    "                 horizontalalignment=\"center\",\n",
    "                 color=\"white\" if cm[i, j] > thresh else \"black\")\n",
    "\n",
    "    plt.tight_layout()\n",
    "    plt.ylabel('True label')\n",
    "    plt.xlabel('Predicted label')\n",
    "    #plt.savefig(r'C:\\Users\\hpalm\\Desktop\\Programacion\\Proyecto_de_grado\\Jupyter\\Matrices de confusion\\all_to_one_32_18_1_2deci.png', transparent = False, bbox_inches = 'tight')"
   ]
  },
  {
   "cell_type": "code",
   "execution_count": 33,
   "metadata": {
    "colab": {
     "base_uri": "https://localhost:8080/",
     "height": 433
    },
    "id": "lPl10utqJSh4",
    "outputId": "493cb281-a4b8-48bb-e5fe-059cb2d0d41d"
   },
   "outputs": [
    {
     "name": "stdout",
     "output_type": "stream",
     "text": [
      "Normalized confusion matrix\n",
      "[[0.97260274 0.00456621 0.         0.00456621 0.01826484 0.        ]\n",
      " [0.         0.8940678  0.08898305 0.00423729 0.01271186 0.        ]\n",
      " [0.00421941 0.0464135  0.94936709 0.         0.         0.        ]\n",
      " [0.01851852 0.         0.00462963 0.93981481 0.03703704 0.        ]\n",
      " [0.         0.         0.00431034 0.00431034 0.99137931 0.        ]\n",
      " [0.         0.         0.         0.         0.         1.        ]]\n"
     ]
    },
    {
     "data": {
      "image/png": "[encoded data removed]",
      "text/plain": [
       "<Figure size 432x288 with 2 Axes>"
      ]
     },
     "metadata": {
      "needs_background": "light"
     },
     "output_type": "display_data"
    }
   ],
   "source": [
    "cm_plot_labels = ['Open','WaveIn','WaveOut','Pinch','Fist','Rest']\n",
    "plot_confusion_matrix(cm,cm_plot_labels, title = 'Confusion Matrix')\n"
   ]
  },
  {
   "cell_type": "markdown",
   "metadata": {
    "id": "M8kQOnr5rkgc"
   },
   "source": [
    "# **Metrics**"
   ]
  },
  {
   "cell_type": "code",
   "execution_count": 34,
   "metadata": {
    "colab": {
     "base_uri": "https://localhost:8080/"
    },
    "id": "U3Sq8Rn9e4E0",
    "outputId": "2bfa5804-eab4-472d-c0e2-f4aea97dc921"
   },
   "outputs": [
    {
     "name": "stdout",
     "output_type": "stream",
     "text": [
      "Accuracy (Polynomial Kernel):  95.72\n",
      "F1 (Polynomial Kernel):  95.71\n",
      "Recall_Score (Polynomial Kernel):  95.79\n",
      "Precision (Polynomial Kernel):  95.91\n"
     ]
    }
   ],
   "source": [
    "from sklearn.metrics import accuracy_score, precision_score, recall_score, f1_score\n",
    "\n",
    "\n",
    "poly_accuracy = accuracy_score(rounded_labels, predicted_classes)\n",
    "poly_f1 = f1_score(rounded_labels, predicted_classes, average='weighted')\n",
    "poly_recall = recall_score(rounded_labels, predicted_classes, average='macro')\n",
    "poly_precision = precision_score(rounded_labels, predicted_classes, average='macro')\n",
    "\n",
    "print('Accuracy (Polynomial Kernel): ', \"%.2f\" % (poly_accuracy*100))\n",
    "print('F1 (Polynomial Kernel): ', \"%.2f\" % (poly_f1*100))\n",
    "print('Recall_Score (Polynomial Kernel): ', \"%.2f\" % (poly_recall*100))\n",
    "print('Precision (Polynomial Kernel): ', \"%.2f\" % (poly_precision*100))"
   ]
  }
 ],
 "metadata": {
  "accelerator": "GPU",
  "colab": {
   "provenance": []
  },
  "gpuClass": "standard",
  "kernelspec": {
   "display_name": "Python 3",
   "language": "python",
   "name": "python3"
  },
  "language_info": {
   "codemirror_mode": {
    "name": "ipython",
    "version": 3
   },
   "file_extension": ".py",
   "mimetype": "text/x-python",
   "name": "python",
   "nbconvert_exporter": "python",
   "pygments_lexer": "ipython3",
   "version": "3.6.13"
  },
  "vscode": {
   "interpreter": {
    "hash": "57fc4b0f5552623463f9119f20479b99d9b3365d1a2b93aaa80b922e042a75a0"
   }
  }
 },
 "nbformat": 4,
 "nbformat_minor": 1
}
